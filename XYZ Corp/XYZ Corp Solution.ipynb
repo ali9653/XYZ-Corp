{
 "cells": [
  {
   "cell_type": "code",
   "execution_count": 5,
   "metadata": {},
   "outputs": [],
   "source": [
    "import pandas as pd\n",
    "import matplotlib.pyplot as plt\n",
    "import numpy as np\n",
    "import math"
   ]
  },
  {
   "cell_type": "markdown",
   "metadata": {},
   "source": [
    "## Importing the Data"
   ]
  },
  {
   "cell_type": "code",
   "execution_count": 6,
   "metadata": {},
   "outputs": [
    {
     "name": "stderr",
     "output_type": "stream",
     "text": [
      "C:\\Users\\ALI\\Anaconda3\\lib\\site-packages\\IPython\\core\\interactiveshell.py:3049: DtypeWarning: Columns (17,45,53) have mixed types. Specify dtype option on import or set low_memory=False.\n",
      "  interactivity=interactivity, compiler=compiler, result=result)\n"
     ]
    }
   ],
   "source": [
    "data = pd.read_csv(r'C:\\Python\\PythonProject-1\\Python Project - Bank Lending\\XYZCorp_LendingData.txt',encoding = 'utf-8', sep = '\\t')"
   ]
  },
  {
   "cell_type": "code",
   "execution_count": 7,
   "metadata": {
    "scrolled": true
   },
   "outputs": [
    {
     "data": {
      "text/html": [
       "<div>\n",
       "<style scoped>\n",
       "    .dataframe tbody tr th:only-of-type {\n",
       "        vertical-align: middle;\n",
       "    }\n",
       "\n",
       "    .dataframe tbody tr th {\n",
       "        vertical-align: top;\n",
       "    }\n",
       "\n",
       "    .dataframe thead th {\n",
       "        text-align: right;\n",
       "    }\n",
       "</style>\n",
       "<table border=\"1\" class=\"dataframe\">\n",
       "  <thead>\n",
       "    <tr style=\"text-align: right;\">\n",
       "      <th></th>\n",
       "      <th>id</th>\n",
       "      <th>member_id</th>\n",
       "      <th>loan_amnt</th>\n",
       "      <th>funded_amnt</th>\n",
       "      <th>funded_amnt_inv</th>\n",
       "      <th>term</th>\n",
       "      <th>int_rate</th>\n",
       "      <th>installment</th>\n",
       "      <th>grade</th>\n",
       "      <th>sub_grade</th>\n",
       "      <th>...</th>\n",
       "      <th>il_util</th>\n",
       "      <th>open_rv_12m</th>\n",
       "      <th>open_rv_24m</th>\n",
       "      <th>max_bal_bc</th>\n",
       "      <th>all_util</th>\n",
       "      <th>total_rev_hi_lim</th>\n",
       "      <th>inq_fi</th>\n",
       "      <th>total_cu_tl</th>\n",
       "      <th>inq_last_12m</th>\n",
       "      <th>default_ind</th>\n",
       "    </tr>\n",
       "  </thead>\n",
       "  <tbody>\n",
       "    <tr>\n",
       "      <th>0</th>\n",
       "      <td>1077501</td>\n",
       "      <td>1296599</td>\n",
       "      <td>5000.0</td>\n",
       "      <td>5000.0</td>\n",
       "      <td>4975.0</td>\n",
       "      <td>36 months</td>\n",
       "      <td>10.65</td>\n",
       "      <td>162.87</td>\n",
       "      <td>B</td>\n",
       "      <td>B2</td>\n",
       "      <td>...</td>\n",
       "      <td>NaN</td>\n",
       "      <td>NaN</td>\n",
       "      <td>NaN</td>\n",
       "      <td>NaN</td>\n",
       "      <td>NaN</td>\n",
       "      <td>NaN</td>\n",
       "      <td>NaN</td>\n",
       "      <td>NaN</td>\n",
       "      <td>NaN</td>\n",
       "      <td>0</td>\n",
       "    </tr>\n",
       "    <tr>\n",
       "      <th>1</th>\n",
       "      <td>1077430</td>\n",
       "      <td>1314167</td>\n",
       "      <td>2500.0</td>\n",
       "      <td>2500.0</td>\n",
       "      <td>2500.0</td>\n",
       "      <td>60 months</td>\n",
       "      <td>15.27</td>\n",
       "      <td>59.83</td>\n",
       "      <td>C</td>\n",
       "      <td>C4</td>\n",
       "      <td>...</td>\n",
       "      <td>NaN</td>\n",
       "      <td>NaN</td>\n",
       "      <td>NaN</td>\n",
       "      <td>NaN</td>\n",
       "      <td>NaN</td>\n",
       "      <td>NaN</td>\n",
       "      <td>NaN</td>\n",
       "      <td>NaN</td>\n",
       "      <td>NaN</td>\n",
       "      <td>1</td>\n",
       "    </tr>\n",
       "    <tr>\n",
       "      <th>2</th>\n",
       "      <td>1077175</td>\n",
       "      <td>1313524</td>\n",
       "      <td>2400.0</td>\n",
       "      <td>2400.0</td>\n",
       "      <td>2400.0</td>\n",
       "      <td>36 months</td>\n",
       "      <td>15.96</td>\n",
       "      <td>84.33</td>\n",
       "      <td>C</td>\n",
       "      <td>C5</td>\n",
       "      <td>...</td>\n",
       "      <td>NaN</td>\n",
       "      <td>NaN</td>\n",
       "      <td>NaN</td>\n",
       "      <td>NaN</td>\n",
       "      <td>NaN</td>\n",
       "      <td>NaN</td>\n",
       "      <td>NaN</td>\n",
       "      <td>NaN</td>\n",
       "      <td>NaN</td>\n",
       "      <td>0</td>\n",
       "    </tr>\n",
       "    <tr>\n",
       "      <th>3</th>\n",
       "      <td>1076863</td>\n",
       "      <td>1277178</td>\n",
       "      <td>10000.0</td>\n",
       "      <td>10000.0</td>\n",
       "      <td>10000.0</td>\n",
       "      <td>36 months</td>\n",
       "      <td>13.49</td>\n",
       "      <td>339.31</td>\n",
       "      <td>C</td>\n",
       "      <td>C1</td>\n",
       "      <td>...</td>\n",
       "      <td>NaN</td>\n",
       "      <td>NaN</td>\n",
       "      <td>NaN</td>\n",
       "      <td>NaN</td>\n",
       "      <td>NaN</td>\n",
       "      <td>NaN</td>\n",
       "      <td>NaN</td>\n",
       "      <td>NaN</td>\n",
       "      <td>NaN</td>\n",
       "      <td>0</td>\n",
       "    </tr>\n",
       "    <tr>\n",
       "      <th>4</th>\n",
       "      <td>1075358</td>\n",
       "      <td>1311748</td>\n",
       "      <td>3000.0</td>\n",
       "      <td>3000.0</td>\n",
       "      <td>3000.0</td>\n",
       "      <td>60 months</td>\n",
       "      <td>12.69</td>\n",
       "      <td>67.79</td>\n",
       "      <td>B</td>\n",
       "      <td>B5</td>\n",
       "      <td>...</td>\n",
       "      <td>NaN</td>\n",
       "      <td>NaN</td>\n",
       "      <td>NaN</td>\n",
       "      <td>NaN</td>\n",
       "      <td>NaN</td>\n",
       "      <td>NaN</td>\n",
       "      <td>NaN</td>\n",
       "      <td>NaN</td>\n",
       "      <td>NaN</td>\n",
       "      <td>0</td>\n",
       "    </tr>\n",
       "  </tbody>\n",
       "</table>\n",
       "<p>5 rows × 73 columns</p>\n",
       "</div>"
      ],
      "text/plain": [
       "        id  member_id  loan_amnt  funded_amnt  funded_amnt_inv        term  \\\n",
       "0  1077501    1296599     5000.0       5000.0           4975.0   36 months   \n",
       "1  1077430    1314167     2500.0       2500.0           2500.0   60 months   \n",
       "2  1077175    1313524     2400.0       2400.0           2400.0   36 months   \n",
       "3  1076863    1277178    10000.0      10000.0          10000.0   36 months   \n",
       "4  1075358    1311748     3000.0       3000.0           3000.0   60 months   \n",
       "\n",
       "   int_rate  installment grade sub_grade  ... il_util open_rv_12m open_rv_24m  \\\n",
       "0     10.65       162.87     B        B2  ...     NaN         NaN         NaN   \n",
       "1     15.27        59.83     C        C4  ...     NaN         NaN         NaN   \n",
       "2     15.96        84.33     C        C5  ...     NaN         NaN         NaN   \n",
       "3     13.49       339.31     C        C1  ...     NaN         NaN         NaN   \n",
       "4     12.69        67.79     B        B5  ...     NaN         NaN         NaN   \n",
       "\n",
       "   max_bal_bc all_util total_rev_hi_lim inq_fi total_cu_tl inq_last_12m  \\\n",
       "0         NaN      NaN              NaN    NaN         NaN          NaN   \n",
       "1         NaN      NaN              NaN    NaN         NaN          NaN   \n",
       "2         NaN      NaN              NaN    NaN         NaN          NaN   \n",
       "3         NaN      NaN              NaN    NaN         NaN          NaN   \n",
       "4         NaN      NaN              NaN    NaN         NaN          NaN   \n",
       "\n",
       "  default_ind  \n",
       "0           0  \n",
       "1           1  \n",
       "2           0  \n",
       "3           0  \n",
       "4           0  \n",
       "\n",
       "[5 rows x 73 columns]"
      ]
     },
     "execution_count": 7,
     "metadata": {},
     "output_type": "execute_result"
    }
   ],
   "source": [
    "data.head()"
   ]
  },
  {
   "cell_type": "code",
   "execution_count": 8,
   "metadata": {
    "scrolled": true
   },
   "outputs": [
    {
     "data": {
      "text/plain": [
       "id                               int64\n",
       "member_id                        int64\n",
       "loan_amnt                      float64\n",
       "funded_amnt                    float64\n",
       "funded_amnt_inv                float64\n",
       "term                            object\n",
       "int_rate                       float64\n",
       "installment                    float64\n",
       "grade                           object\n",
       "sub_grade                       object\n",
       "emp_title                       object\n",
       "emp_length                      object\n",
       "home_ownership                  object\n",
       "annual_inc                     float64\n",
       "verification_status             object\n",
       "issue_d                         object\n",
       "pymnt_plan                      object\n",
       "desc                            object\n",
       "purpose                         object\n",
       "title                           object\n",
       "zip_code                        object\n",
       "addr_state                      object\n",
       "dti                            float64\n",
       "delinq_2yrs                    float64\n",
       "earliest_cr_line                object\n",
       "inq_last_6mths                 float64\n",
       "mths_since_last_delinq         float64\n",
       "mths_since_last_record         float64\n",
       "open_acc                       float64\n",
       "pub_rec                        float64\n",
       "                                ...   \n",
       "last_pymnt_d                    object\n",
       "last_pymnt_amnt                float64\n",
       "next_pymnt_d                    object\n",
       "last_credit_pull_d              object\n",
       "collections_12_mths_ex_med     float64\n",
       "mths_since_last_major_derog    float64\n",
       "policy_code                    float64\n",
       "application_type                object\n",
       "annual_inc_joint               float64\n",
       "dti_joint                      float64\n",
       "verification_status_joint       object\n",
       "acc_now_delinq                 float64\n",
       "tot_coll_amt                   float64\n",
       "tot_cur_bal                    float64\n",
       "open_acc_6m                    float64\n",
       "open_il_6m                     float64\n",
       "open_il_12m                    float64\n",
       "open_il_24m                    float64\n",
       "mths_since_rcnt_il             float64\n",
       "total_bal_il                   float64\n",
       "il_util                        float64\n",
       "open_rv_12m                    float64\n",
       "open_rv_24m                    float64\n",
       "max_bal_bc                     float64\n",
       "all_util                       float64\n",
       "total_rev_hi_lim               float64\n",
       "inq_fi                         float64\n",
       "total_cu_tl                    float64\n",
       "inq_last_12m                   float64\n",
       "default_ind                      int64\n",
       "Length: 73, dtype: object"
      ]
     },
     "execution_count": 8,
     "metadata": {},
     "output_type": "execute_result"
    }
   ],
   "source": [
    "data.dtypes"
   ]
  },
  {
   "cell_type": "code",
   "execution_count": 9,
   "metadata": {},
   "outputs": [],
   "source": [
    "#create a copy of the data frame to revert back to changes\n",
    "\n",
    "df=pd.DataFrame.copy(data)"
   ]
  },
  {
   "cell_type": "code",
   "execution_count": 10,
   "metadata": {},
   "outputs": [
    {
     "data": {
      "text/html": [
       "<div>\n",
       "<style scoped>\n",
       "    .dataframe tbody tr th:only-of-type {\n",
       "        vertical-align: middle;\n",
       "    }\n",
       "\n",
       "    .dataframe tbody tr th {\n",
       "        vertical-align: top;\n",
       "    }\n",
       "\n",
       "    .dataframe thead th {\n",
       "        text-align: right;\n",
       "    }\n",
       "</style>\n",
       "<table border=\"1\" class=\"dataframe\">\n",
       "  <thead>\n",
       "    <tr style=\"text-align: right;\">\n",
       "      <th></th>\n",
       "      <th>id</th>\n",
       "      <th>member_id</th>\n",
       "      <th>loan_amnt</th>\n",
       "      <th>funded_amnt</th>\n",
       "      <th>funded_amnt_inv</th>\n",
       "      <th>term</th>\n",
       "      <th>int_rate</th>\n",
       "      <th>installment</th>\n",
       "      <th>grade</th>\n",
       "      <th>sub_grade</th>\n",
       "      <th>...</th>\n",
       "      <th>il_util</th>\n",
       "      <th>open_rv_12m</th>\n",
       "      <th>open_rv_24m</th>\n",
       "      <th>max_bal_bc</th>\n",
       "      <th>all_util</th>\n",
       "      <th>total_rev_hi_lim</th>\n",
       "      <th>inq_fi</th>\n",
       "      <th>total_cu_tl</th>\n",
       "      <th>inq_last_12m</th>\n",
       "      <th>default_ind</th>\n",
       "    </tr>\n",
       "  </thead>\n",
       "  <tbody>\n",
       "    <tr>\n",
       "      <th>0</th>\n",
       "      <td>1077501</td>\n",
       "      <td>1296599</td>\n",
       "      <td>5000.0</td>\n",
       "      <td>5000.0</td>\n",
       "      <td>4975.0</td>\n",
       "      <td>36 months</td>\n",
       "      <td>10.65</td>\n",
       "      <td>162.87</td>\n",
       "      <td>B</td>\n",
       "      <td>B2</td>\n",
       "      <td>...</td>\n",
       "      <td>NaN</td>\n",
       "      <td>NaN</td>\n",
       "      <td>NaN</td>\n",
       "      <td>NaN</td>\n",
       "      <td>NaN</td>\n",
       "      <td>NaN</td>\n",
       "      <td>NaN</td>\n",
       "      <td>NaN</td>\n",
       "      <td>NaN</td>\n",
       "      <td>0</td>\n",
       "    </tr>\n",
       "    <tr>\n",
       "      <th>1</th>\n",
       "      <td>1077430</td>\n",
       "      <td>1314167</td>\n",
       "      <td>2500.0</td>\n",
       "      <td>2500.0</td>\n",
       "      <td>2500.0</td>\n",
       "      <td>60 months</td>\n",
       "      <td>15.27</td>\n",
       "      <td>59.83</td>\n",
       "      <td>C</td>\n",
       "      <td>C4</td>\n",
       "      <td>...</td>\n",
       "      <td>NaN</td>\n",
       "      <td>NaN</td>\n",
       "      <td>NaN</td>\n",
       "      <td>NaN</td>\n",
       "      <td>NaN</td>\n",
       "      <td>NaN</td>\n",
       "      <td>NaN</td>\n",
       "      <td>NaN</td>\n",
       "      <td>NaN</td>\n",
       "      <td>1</td>\n",
       "    </tr>\n",
       "    <tr>\n",
       "      <th>2</th>\n",
       "      <td>1077175</td>\n",
       "      <td>1313524</td>\n",
       "      <td>2400.0</td>\n",
       "      <td>2400.0</td>\n",
       "      <td>2400.0</td>\n",
       "      <td>36 months</td>\n",
       "      <td>15.96</td>\n",
       "      <td>84.33</td>\n",
       "      <td>C</td>\n",
       "      <td>C5</td>\n",
       "      <td>...</td>\n",
       "      <td>NaN</td>\n",
       "      <td>NaN</td>\n",
       "      <td>NaN</td>\n",
       "      <td>NaN</td>\n",
       "      <td>NaN</td>\n",
       "      <td>NaN</td>\n",
       "      <td>NaN</td>\n",
       "      <td>NaN</td>\n",
       "      <td>NaN</td>\n",
       "      <td>0</td>\n",
       "    </tr>\n",
       "    <tr>\n",
       "      <th>3</th>\n",
       "      <td>1076863</td>\n",
       "      <td>1277178</td>\n",
       "      <td>10000.0</td>\n",
       "      <td>10000.0</td>\n",
       "      <td>10000.0</td>\n",
       "      <td>36 months</td>\n",
       "      <td>13.49</td>\n",
       "      <td>339.31</td>\n",
       "      <td>C</td>\n",
       "      <td>C1</td>\n",
       "      <td>...</td>\n",
       "      <td>NaN</td>\n",
       "      <td>NaN</td>\n",
       "      <td>NaN</td>\n",
       "      <td>NaN</td>\n",
       "      <td>NaN</td>\n",
       "      <td>NaN</td>\n",
       "      <td>NaN</td>\n",
       "      <td>NaN</td>\n",
       "      <td>NaN</td>\n",
       "      <td>0</td>\n",
       "    </tr>\n",
       "    <tr>\n",
       "      <th>4</th>\n",
       "      <td>1075358</td>\n",
       "      <td>1311748</td>\n",
       "      <td>3000.0</td>\n",
       "      <td>3000.0</td>\n",
       "      <td>3000.0</td>\n",
       "      <td>60 months</td>\n",
       "      <td>12.69</td>\n",
       "      <td>67.79</td>\n",
       "      <td>B</td>\n",
       "      <td>B5</td>\n",
       "      <td>...</td>\n",
       "      <td>NaN</td>\n",
       "      <td>NaN</td>\n",
       "      <td>NaN</td>\n",
       "      <td>NaN</td>\n",
       "      <td>NaN</td>\n",
       "      <td>NaN</td>\n",
       "      <td>NaN</td>\n",
       "      <td>NaN</td>\n",
       "      <td>NaN</td>\n",
       "      <td>0</td>\n",
       "    </tr>\n",
       "  </tbody>\n",
       "</table>\n",
       "<p>5 rows × 73 columns</p>\n",
       "</div>"
      ],
      "text/plain": [
       "        id  member_id  loan_amnt  funded_amnt  funded_amnt_inv        term  \\\n",
       "0  1077501    1296599     5000.0       5000.0           4975.0   36 months   \n",
       "1  1077430    1314167     2500.0       2500.0           2500.0   60 months   \n",
       "2  1077175    1313524     2400.0       2400.0           2400.0   36 months   \n",
       "3  1076863    1277178    10000.0      10000.0          10000.0   36 months   \n",
       "4  1075358    1311748     3000.0       3000.0           3000.0   60 months   \n",
       "\n",
       "   int_rate  installment grade sub_grade  ... il_util open_rv_12m open_rv_24m  \\\n",
       "0     10.65       162.87     B        B2  ...     NaN         NaN         NaN   \n",
       "1     15.27        59.83     C        C4  ...     NaN         NaN         NaN   \n",
       "2     15.96        84.33     C        C5  ...     NaN         NaN         NaN   \n",
       "3     13.49       339.31     C        C1  ...     NaN         NaN         NaN   \n",
       "4     12.69        67.79     B        B5  ...     NaN         NaN         NaN   \n",
       "\n",
       "   max_bal_bc all_util total_rev_hi_lim inq_fi total_cu_tl inq_last_12m  \\\n",
       "0         NaN      NaN              NaN    NaN         NaN          NaN   \n",
       "1         NaN      NaN              NaN    NaN         NaN          NaN   \n",
       "2         NaN      NaN              NaN    NaN         NaN          NaN   \n",
       "3         NaN      NaN              NaN    NaN         NaN          NaN   \n",
       "4         NaN      NaN              NaN    NaN         NaN          NaN   \n",
       "\n",
       "  default_ind  \n",
       "0           0  \n",
       "1           1  \n",
       "2           0  \n",
       "3           0  \n",
       "4           0  \n",
       "\n",
       "[5 rows x 73 columns]"
      ]
     },
     "execution_count": 10,
     "metadata": {},
     "output_type": "execute_result"
    }
   ],
   "source": [
    "df.head()"
   ]
  },
  {
   "cell_type": "code",
   "execution_count": 11,
   "metadata": {},
   "outputs": [
    {
     "data": {
      "text/plain": [
       "(855969, 73)"
      ]
     },
     "execution_count": 11,
     "metadata": {},
     "output_type": "execute_result"
    }
   ],
   "source": [
    "df.shape"
   ]
  },
  {
   "cell_type": "code",
   "execution_count": 12,
   "metadata": {
    "scrolled": false
   },
   "outputs": [
    {
     "data": {
      "text/plain": [
       "id                               int64\n",
       "member_id                        int64\n",
       "loan_amnt                      float64\n",
       "funded_amnt                    float64\n",
       "funded_amnt_inv                float64\n",
       "term                            object\n",
       "int_rate                       float64\n",
       "installment                    float64\n",
       "grade                           object\n",
       "sub_grade                       object\n",
       "emp_title                       object\n",
       "emp_length                      object\n",
       "home_ownership                  object\n",
       "annual_inc                     float64\n",
       "verification_status             object\n",
       "issue_d                         object\n",
       "pymnt_plan                      object\n",
       "desc                            object\n",
       "purpose                         object\n",
       "title                           object\n",
       "zip_code                        object\n",
       "addr_state                      object\n",
       "dti                            float64\n",
       "delinq_2yrs                    float64\n",
       "earliest_cr_line                object\n",
       "inq_last_6mths                 float64\n",
       "mths_since_last_delinq         float64\n",
       "mths_since_last_record         float64\n",
       "open_acc                       float64\n",
       "pub_rec                        float64\n",
       "                                ...   \n",
       "last_pymnt_d                    object\n",
       "last_pymnt_amnt                float64\n",
       "next_pymnt_d                    object\n",
       "last_credit_pull_d              object\n",
       "collections_12_mths_ex_med     float64\n",
       "mths_since_last_major_derog    float64\n",
       "policy_code                    float64\n",
       "application_type                object\n",
       "annual_inc_joint               float64\n",
       "dti_joint                      float64\n",
       "verification_status_joint       object\n",
       "acc_now_delinq                 float64\n",
       "tot_coll_amt                   float64\n",
       "tot_cur_bal                    float64\n",
       "open_acc_6m                    float64\n",
       "open_il_6m                     float64\n",
       "open_il_12m                    float64\n",
       "open_il_24m                    float64\n",
       "mths_since_rcnt_il             float64\n",
       "total_bal_il                   float64\n",
       "il_util                        float64\n",
       "open_rv_12m                    float64\n",
       "open_rv_24m                    float64\n",
       "max_bal_bc                     float64\n",
       "all_util                       float64\n",
       "total_rev_hi_lim               float64\n",
       "inq_fi                         float64\n",
       "total_cu_tl                    float64\n",
       "inq_last_12m                   float64\n",
       "default_ind                      int64\n",
       "Length: 73, dtype: object"
      ]
     },
     "execution_count": 12,
     "metadata": {},
     "output_type": "execute_result"
    }
   ],
   "source": [
    "df.dtypes"
   ]
  },
  {
   "cell_type": "code",
   "execution_count": 13,
   "metadata": {},
   "outputs": [
    {
     "data": {
      "text/plain": [
       "id                               int64\n",
       "member_id                        int64\n",
       "loan_amnt                      float64\n",
       "funded_amnt                    float64\n",
       "funded_amnt_inv                float64\n",
       "term                            object\n",
       "int_rate                       float64\n",
       "installment                    float64\n",
       "grade                           object\n",
       "sub_grade                       object\n",
       "emp_title                       object\n",
       "emp_length                      object\n",
       "home_ownership                  object\n",
       "annual_inc                     float64\n",
       "verification_status             object\n",
       "issue_d                         object\n",
       "pymnt_plan                      object\n",
       "desc                            object\n",
       "purpose                         object\n",
       "title                           object\n",
       "zip_code                        object\n",
       "addr_state                      object\n",
       "dti                            float64\n",
       "delinq_2yrs                    float64\n",
       "earliest_cr_line                object\n",
       "inq_last_6mths                 float64\n",
       "mths_since_last_delinq         float64\n",
       "mths_since_last_record         float64\n",
       "open_acc                       float64\n",
       "pub_rec                        float64\n",
       "                                ...   \n",
       "last_pymnt_d                    object\n",
       "last_pymnt_amnt                float64\n",
       "next_pymnt_d                    object\n",
       "last_credit_pull_d              object\n",
       "collections_12_mths_ex_med     float64\n",
       "mths_since_last_major_derog    float64\n",
       "policy_code                    float64\n",
       "application_type                object\n",
       "annual_inc_joint               float64\n",
       "dti_joint                      float64\n",
       "verification_status_joint       object\n",
       "acc_now_delinq                 float64\n",
       "tot_coll_amt                   float64\n",
       "tot_cur_bal                    float64\n",
       "open_acc_6m                    float64\n",
       "open_il_6m                     float64\n",
       "open_il_12m                    float64\n",
       "open_il_24m                    float64\n",
       "mths_since_rcnt_il             float64\n",
       "total_bal_il                   float64\n",
       "il_util                        float64\n",
       "open_rv_12m                    float64\n",
       "open_rv_24m                    float64\n",
       "max_bal_bc                     float64\n",
       "all_util                       float64\n",
       "total_rev_hi_lim               float64\n",
       "inq_fi                         float64\n",
       "total_cu_tl                    float64\n",
       "inq_last_12m                   float64\n",
       "default_ind                      int64\n",
       "Length: 73, dtype: object"
      ]
     },
     "execution_count": 13,
     "metadata": {},
     "output_type": "execute_result"
    }
   ],
   "source": [
    "data.dtypes"
   ]
  },
  {
   "cell_type": "markdown",
   "metadata": {},
   "source": [
    "## Data Cleaning"
   ]
  },
  {
   "cell_type": "code",
   "execution_count": 14,
   "metadata": {},
   "outputs": [
    {
     "data": {
      "text/plain": [
       "id                                  0\n",
       "member_id                           0\n",
       "loan_amnt                           0\n",
       "funded_amnt                         0\n",
       "funded_amnt_inv                     0\n",
       "term                                0\n",
       "int_rate                            0\n",
       "installment                         0\n",
       "grade                               0\n",
       "sub_grade                           0\n",
       "emp_title                       49443\n",
       "emp_length                      43061\n",
       "home_ownership                      0\n",
       "annual_inc                          0\n",
       "verification_status                 0\n",
       "issue_d                             0\n",
       "pymnt_plan                          0\n",
       "desc                           734157\n",
       "purpose                             0\n",
       "title                              33\n",
       "zip_code                            0\n",
       "addr_state                          0\n",
       "dti                                 0\n",
       "delinq_2yrs                         0\n",
       "earliest_cr_line                    0\n",
       "inq_last_6mths                      0\n",
       "mths_since_last_delinq         439812\n",
       "mths_since_last_record         724785\n",
       "open_acc                            0\n",
       "pub_rec                             0\n",
       "                                ...  \n",
       "last_pymnt_d                     8862\n",
       "last_pymnt_amnt                     0\n",
       "next_pymnt_d                   252971\n",
       "last_credit_pull_d                 50\n",
       "collections_12_mths_ex_med         56\n",
       "mths_since_last_major_derog    642830\n",
       "policy_code                         0\n",
       "application_type                    0\n",
       "annual_inc_joint               855527\n",
       "dti_joint                      855529\n",
       "verification_status_joint      855527\n",
       "acc_now_delinq                      0\n",
       "tot_coll_amt                    67313\n",
       "tot_cur_bal                     67313\n",
       "open_acc_6m                    842681\n",
       "open_il_6m                     842681\n",
       "open_il_12m                    842681\n",
       "open_il_24m                    842681\n",
       "mths_since_rcnt_il             843035\n",
       "total_bal_il                   842681\n",
       "il_util                        844360\n",
       "open_rv_12m                    842681\n",
       "open_rv_24m                    842681\n",
       "max_bal_bc                     842681\n",
       "all_util                       842681\n",
       "total_rev_hi_lim                67313\n",
       "inq_fi                         842681\n",
       "total_cu_tl                    842681\n",
       "inq_last_12m                   842681\n",
       "default_ind                         0\n",
       "Length: 73, dtype: int64"
      ]
     },
     "execution_count": 14,
     "metadata": {},
     "output_type": "execute_result"
    }
   ],
   "source": [
    "#check for null values\n",
    "\n",
    "df.isnull().sum()"
   ]
  },
  {
   "cell_type": "code",
   "execution_count": 15,
   "metadata": {},
   "outputs": [
    {
     "data": {
      "text/plain": [
       "dti_joint                      0.999486\n",
       "verification_status_joint      0.999484\n",
       "annual_inc_joint               0.999484\n",
       "il_util                        0.986438\n",
       "mths_since_rcnt_il             0.984890\n",
       "total_bal_il                   0.984476\n",
       "inq_last_12m                   0.984476\n",
       "open_acc_6m                    0.984476\n",
       "open_il_6m                     0.984476\n",
       "open_il_24m                    0.984476\n",
       "open_il_12m                    0.984476\n",
       "open_rv_12m                    0.984476\n",
       "open_rv_24m                    0.984476\n",
       "max_bal_bc                     0.984476\n",
       "all_util                       0.984476\n",
       "inq_fi                         0.984476\n",
       "total_cu_tl                    0.984476\n",
       "desc                           0.857691\n",
       "mths_since_last_record         0.846742\n",
       "mths_since_last_major_derog    0.750997\n",
       "dtype: float64"
      ]
     },
     "execution_count": 15,
     "metadata": {},
     "output_type": "execute_result"
    }
   ],
   "source": [
    "#finding variables with more than 75% missing values\n",
    "\n",
    "null_val = df.isnull().sum(axis=0).sort_values( ascending=False)/float(len(data) )\n",
    "null_val[ null_val > 0.75 ]"
   ]
  },
  {
   "cell_type": "markdown",
   "metadata": {},
   "source": [
    "Some columns have missing values more than 75% when compared to the original values.\n",
    "So we will take 0.75 as threshold and eliminate all the columns with more than 75% missing values"
   ]
  },
  {
   "cell_type": "code",
   "execution_count": 16,
   "metadata": {},
   "outputs": [],
   "source": [
    "df.drop( null_val[ null_val > 0.75 ].index, axis = 1, inplace = True ) "
   ]
  },
  {
   "cell_type": "code",
   "execution_count": 17,
   "metadata": {},
   "outputs": [
    {
     "data": {
      "text/plain": [
       "id                                 0\n",
       "member_id                          0\n",
       "loan_amnt                          0\n",
       "funded_amnt                        0\n",
       "funded_amnt_inv                    0\n",
       "term                               0\n",
       "int_rate                           0\n",
       "installment                        0\n",
       "grade                              0\n",
       "sub_grade                          0\n",
       "emp_title                      49443\n",
       "emp_length                     43061\n",
       "home_ownership                     0\n",
       "annual_inc                         0\n",
       "verification_status                0\n",
       "issue_d                            0\n",
       "pymnt_plan                         0\n",
       "purpose                            0\n",
       "title                             33\n",
       "zip_code                           0\n",
       "addr_state                         0\n",
       "dti                                0\n",
       "delinq_2yrs                        0\n",
       "earliest_cr_line                   0\n",
       "inq_last_6mths                     0\n",
       "mths_since_last_delinq        439812\n",
       "open_acc                           0\n",
       "pub_rec                            0\n",
       "revol_bal                          0\n",
       "revol_util                       446\n",
       "total_acc                          0\n",
       "initial_list_status                0\n",
       "out_prncp                          0\n",
       "out_prncp_inv                      0\n",
       "total_pymnt                        0\n",
       "total_pymnt_inv                    0\n",
       "total_rec_prncp                    0\n",
       "total_rec_int                      0\n",
       "total_rec_late_fee                 0\n",
       "recoveries                         0\n",
       "collection_recovery_fee            0\n",
       "last_pymnt_d                    8862\n",
       "last_pymnt_amnt                    0\n",
       "next_pymnt_d                  252971\n",
       "last_credit_pull_d                50\n",
       "collections_12_mths_ex_med        56\n",
       "policy_code                        0\n",
       "application_type                   0\n",
       "acc_now_delinq                     0\n",
       "tot_coll_amt                   67313\n",
       "tot_cur_bal                    67313\n",
       "total_rev_hi_lim               67313\n",
       "default_ind                        0\n",
       "dtype: int64"
      ]
     },
     "execution_count": 17,
     "metadata": {},
     "output_type": "execute_result"
    }
   ],
   "source": [
    "df.isnull().sum()"
   ]
  },
  {
   "cell_type": "code",
   "execution_count": 18,
   "metadata": {},
   "outputs": [
    {
     "data": {
      "text/plain": [
       "(855969, 53)"
      ]
     },
     "execution_count": 18,
     "metadata": {},
     "output_type": "execute_result"
    }
   ],
   "source": [
    "df.shape"
   ]
  },
  {
   "cell_type": "markdown",
   "metadata": {},
   "source": [
    "**As we can see that original number of observations : (855969, 73)**\n",
    "\n",
    "**Observations after removing columns with more than 75% missing values : (855969, 53)**\n",
    "\n",
    "**We can see that 20 columns were removed**\n"
   ]
  },
  {
   "cell_type": "code",
   "execution_count": 19,
   "metadata": {},
   "outputs": [
    {
     "data": {
      "text/plain": [
       "id                                 0\n",
       "member_id                          0\n",
       "loan_amnt                          0\n",
       "funded_amnt                        0\n",
       "funded_amnt_inv                    0\n",
       "term                               0\n",
       "int_rate                           0\n",
       "installment                        0\n",
       "grade                              0\n",
       "sub_grade                          0\n",
       "emp_title                      49443\n",
       "emp_length                     43061\n",
       "home_ownership                     0\n",
       "annual_inc                         0\n",
       "verification_status                0\n",
       "issue_d                            0\n",
       "pymnt_plan                         0\n",
       "purpose                            0\n",
       "title                             33\n",
       "zip_code                           0\n",
       "addr_state                         0\n",
       "dti                                0\n",
       "delinq_2yrs                        0\n",
       "earliest_cr_line                   0\n",
       "inq_last_6mths                     0\n",
       "mths_since_last_delinq        439812\n",
       "open_acc                           0\n",
       "pub_rec                            0\n",
       "revol_bal                          0\n",
       "revol_util                       446\n",
       "total_acc                          0\n",
       "initial_list_status                0\n",
       "out_prncp                          0\n",
       "out_prncp_inv                      0\n",
       "total_pymnt                        0\n",
       "total_pymnt_inv                    0\n",
       "total_rec_prncp                    0\n",
       "total_rec_int                      0\n",
       "total_rec_late_fee                 0\n",
       "recoveries                         0\n",
       "collection_recovery_fee            0\n",
       "last_pymnt_d                    8862\n",
       "last_pymnt_amnt                    0\n",
       "next_pymnt_d                  252971\n",
       "last_credit_pull_d                50\n",
       "collections_12_mths_ex_med        56\n",
       "policy_code                        0\n",
       "application_type                   0\n",
       "acc_now_delinq                     0\n",
       "tot_coll_amt                   67313\n",
       "tot_cur_bal                    67313\n",
       "total_rev_hi_lim               67313\n",
       "default_ind                        0\n",
       "dtype: int64"
      ]
     },
     "execution_count": 19,
     "metadata": {},
     "output_type": "execute_result"
    }
   ],
   "source": [
    "df.isnull().sum()"
   ]
  },
  {
   "cell_type": "markdown",
   "metadata": {},
   "source": [
    "## Generic Code to impute the missing values\n",
    "**We use Mode in case of 'Object Variables' and Mean in case of 'Numeric Variable' to impute missing values**"
   ]
  },
  {
   "cell_type": "code",
   "execution_count": 20,
   "metadata": {},
   "outputs": [],
   "source": [
    "for x in df.columns[:]:\n",
    "    if df[x].dtype=='object':\n",
    "        df[x].fillna(df[x].mode()[0],inplace=True)\n",
    "    elif df[x].dtype=='int64' or df[x].dtype=='float64':\n",
    "        df[x].fillna(df[x].mean(),inplace=True)"
   ]
  },
  {
   "cell_type": "code",
   "execution_count": 21,
   "metadata": {},
   "outputs": [
    {
     "data": {
      "text/plain": [
       "id                            0\n",
       "member_id                     0\n",
       "loan_amnt                     0\n",
       "funded_amnt                   0\n",
       "funded_amnt_inv               0\n",
       "term                          0\n",
       "int_rate                      0\n",
       "installment                   0\n",
       "grade                         0\n",
       "sub_grade                     0\n",
       "emp_title                     0\n",
       "emp_length                    0\n",
       "home_ownership                0\n",
       "annual_inc                    0\n",
       "verification_status           0\n",
       "issue_d                       0\n",
       "pymnt_plan                    0\n",
       "purpose                       0\n",
       "title                         0\n",
       "zip_code                      0\n",
       "addr_state                    0\n",
       "dti                           0\n",
       "delinq_2yrs                   0\n",
       "earliest_cr_line              0\n",
       "inq_last_6mths                0\n",
       "mths_since_last_delinq        0\n",
       "open_acc                      0\n",
       "pub_rec                       0\n",
       "revol_bal                     0\n",
       "revol_util                    0\n",
       "total_acc                     0\n",
       "initial_list_status           0\n",
       "out_prncp                     0\n",
       "out_prncp_inv                 0\n",
       "total_pymnt                   0\n",
       "total_pymnt_inv               0\n",
       "total_rec_prncp               0\n",
       "total_rec_int                 0\n",
       "total_rec_late_fee            0\n",
       "recoveries                    0\n",
       "collection_recovery_fee       0\n",
       "last_pymnt_d                  0\n",
       "last_pymnt_amnt               0\n",
       "next_pymnt_d                  0\n",
       "last_credit_pull_d            0\n",
       "collections_12_mths_ex_med    0\n",
       "policy_code                   0\n",
       "application_type              0\n",
       "acc_now_delinq                0\n",
       "tot_coll_amt                  0\n",
       "tot_cur_bal                   0\n",
       "total_rev_hi_lim              0\n",
       "default_ind                   0\n",
       "dtype: int64"
      ]
     },
     "execution_count": 21,
     "metadata": {},
     "output_type": "execute_result"
    }
   ],
   "source": [
    "df.isnull().sum()"
   ]
  },
  {
   "cell_type": "code",
   "execution_count": 22,
   "metadata": {},
   "outputs": [
    {
     "data": {
      "text/plain": [
       "Index(['id', 'member_id', 'loan_amnt', 'funded_amnt', 'funded_amnt_inv',\n",
       "       'term', 'int_rate', 'installment', 'grade', 'sub_grade', 'emp_title',\n",
       "       'emp_length', 'home_ownership', 'annual_inc', 'verification_status',\n",
       "       'issue_d', 'pymnt_plan', 'purpose', 'title', 'zip_code', 'addr_state',\n",
       "       'dti', 'delinq_2yrs', 'earliest_cr_line', 'inq_last_6mths',\n",
       "       'mths_since_last_delinq', 'open_acc', 'pub_rec', 'revol_bal',\n",
       "       'revol_util', 'total_acc', 'initial_list_status', 'out_prncp',\n",
       "       'out_prncp_inv', 'total_pymnt', 'total_pymnt_inv', 'total_rec_prncp',\n",
       "       'total_rec_int', 'total_rec_late_fee', 'recoveries',\n",
       "       'collection_recovery_fee', 'last_pymnt_d', 'last_pymnt_amnt',\n",
       "       'next_pymnt_d', 'last_credit_pull_d', 'collections_12_mths_ex_med',\n",
       "       'policy_code', 'application_type', 'acc_now_delinq', 'tot_coll_amt',\n",
       "       'tot_cur_bal', 'total_rev_hi_lim', 'default_ind'],\n",
       "      dtype='object')"
      ]
     },
     "execution_count": 22,
     "metadata": {},
     "output_type": "execute_result"
    }
   ],
   "source": [
    "df.columns\n"
   ]
  },
  {
   "cell_type": "code",
   "execution_count": 23,
   "metadata": {},
   "outputs": [
    {
     "data": {
      "text/html": [
       "<div>\n",
       "<style scoped>\n",
       "    .dataframe tbody tr th:only-of-type {\n",
       "        vertical-align: middle;\n",
       "    }\n",
       "\n",
       "    .dataframe tbody tr th {\n",
       "        vertical-align: top;\n",
       "    }\n",
       "\n",
       "    .dataframe thead th {\n",
       "        text-align: right;\n",
       "    }\n",
       "</style>\n",
       "<table border=\"1\" class=\"dataframe\">\n",
       "  <thead>\n",
       "    <tr style=\"text-align: right;\">\n",
       "      <th></th>\n",
       "      <th>id</th>\n",
       "      <th>member_id</th>\n",
       "      <th>loan_amnt</th>\n",
       "      <th>funded_amnt</th>\n",
       "      <th>funded_amnt_inv</th>\n",
       "      <th>term</th>\n",
       "      <th>int_rate</th>\n",
       "      <th>installment</th>\n",
       "      <th>grade</th>\n",
       "      <th>sub_grade</th>\n",
       "      <th>...</th>\n",
       "      <th>next_pymnt_d</th>\n",
       "      <th>last_credit_pull_d</th>\n",
       "      <th>collections_12_mths_ex_med</th>\n",
       "      <th>policy_code</th>\n",
       "      <th>application_type</th>\n",
       "      <th>acc_now_delinq</th>\n",
       "      <th>tot_coll_amt</th>\n",
       "      <th>tot_cur_bal</th>\n",
       "      <th>total_rev_hi_lim</th>\n",
       "      <th>default_ind</th>\n",
       "    </tr>\n",
       "  </thead>\n",
       "  <tbody>\n",
       "    <tr>\n",
       "      <th>0</th>\n",
       "      <td>1077501</td>\n",
       "      <td>1296599</td>\n",
       "      <td>5000.0</td>\n",
       "      <td>5000.0</td>\n",
       "      <td>4975.0</td>\n",
       "      <td>36 months</td>\n",
       "      <td>10.65</td>\n",
       "      <td>162.87</td>\n",
       "      <td>B</td>\n",
       "      <td>B2</td>\n",
       "      <td>...</td>\n",
       "      <td>Feb-2016</td>\n",
       "      <td>Jan-2016</td>\n",
       "      <td>0.0</td>\n",
       "      <td>1.0</td>\n",
       "      <td>INDIVIDUAL</td>\n",
       "      <td>0.0</td>\n",
       "      <td>225.412882</td>\n",
       "      <td>139766.247529</td>\n",
       "      <td>32163.574526</td>\n",
       "      <td>0</td>\n",
       "    </tr>\n",
       "    <tr>\n",
       "      <th>1</th>\n",
       "      <td>1077430</td>\n",
       "      <td>1314167</td>\n",
       "      <td>2500.0</td>\n",
       "      <td>2500.0</td>\n",
       "      <td>2500.0</td>\n",
       "      <td>60 months</td>\n",
       "      <td>15.27</td>\n",
       "      <td>59.83</td>\n",
       "      <td>C</td>\n",
       "      <td>C4</td>\n",
       "      <td>...</td>\n",
       "      <td>Feb-2016</td>\n",
       "      <td>Sep-2013</td>\n",
       "      <td>0.0</td>\n",
       "      <td>1.0</td>\n",
       "      <td>INDIVIDUAL</td>\n",
       "      <td>0.0</td>\n",
       "      <td>225.412882</td>\n",
       "      <td>139766.247529</td>\n",
       "      <td>32163.574526</td>\n",
       "      <td>1</td>\n",
       "    </tr>\n",
       "    <tr>\n",
       "      <th>2</th>\n",
       "      <td>1077175</td>\n",
       "      <td>1313524</td>\n",
       "      <td>2400.0</td>\n",
       "      <td>2400.0</td>\n",
       "      <td>2400.0</td>\n",
       "      <td>36 months</td>\n",
       "      <td>15.96</td>\n",
       "      <td>84.33</td>\n",
       "      <td>C</td>\n",
       "      <td>C5</td>\n",
       "      <td>...</td>\n",
       "      <td>Feb-2016</td>\n",
       "      <td>Jan-2016</td>\n",
       "      <td>0.0</td>\n",
       "      <td>1.0</td>\n",
       "      <td>INDIVIDUAL</td>\n",
       "      <td>0.0</td>\n",
       "      <td>225.412882</td>\n",
       "      <td>139766.247529</td>\n",
       "      <td>32163.574526</td>\n",
       "      <td>0</td>\n",
       "    </tr>\n",
       "    <tr>\n",
       "      <th>3</th>\n",
       "      <td>1076863</td>\n",
       "      <td>1277178</td>\n",
       "      <td>10000.0</td>\n",
       "      <td>10000.0</td>\n",
       "      <td>10000.0</td>\n",
       "      <td>36 months</td>\n",
       "      <td>13.49</td>\n",
       "      <td>339.31</td>\n",
       "      <td>C</td>\n",
       "      <td>C1</td>\n",
       "      <td>...</td>\n",
       "      <td>Feb-2016</td>\n",
       "      <td>Jan-2015</td>\n",
       "      <td>0.0</td>\n",
       "      <td>1.0</td>\n",
       "      <td>INDIVIDUAL</td>\n",
       "      <td>0.0</td>\n",
       "      <td>225.412882</td>\n",
       "      <td>139766.247529</td>\n",
       "      <td>32163.574526</td>\n",
       "      <td>0</td>\n",
       "    </tr>\n",
       "    <tr>\n",
       "      <th>4</th>\n",
       "      <td>1075358</td>\n",
       "      <td>1311748</td>\n",
       "      <td>3000.0</td>\n",
       "      <td>3000.0</td>\n",
       "      <td>3000.0</td>\n",
       "      <td>60 months</td>\n",
       "      <td>12.69</td>\n",
       "      <td>67.79</td>\n",
       "      <td>B</td>\n",
       "      <td>B5</td>\n",
       "      <td>...</td>\n",
       "      <td>Feb-2016</td>\n",
       "      <td>Jan-2016</td>\n",
       "      <td>0.0</td>\n",
       "      <td>1.0</td>\n",
       "      <td>INDIVIDUAL</td>\n",
       "      <td>0.0</td>\n",
       "      <td>225.412882</td>\n",
       "      <td>139766.247529</td>\n",
       "      <td>32163.574526</td>\n",
       "      <td>0</td>\n",
       "    </tr>\n",
       "  </tbody>\n",
       "</table>\n",
       "<p>5 rows × 53 columns</p>\n",
       "</div>"
      ],
      "text/plain": [
       "        id  member_id  loan_amnt  funded_amnt  funded_amnt_inv        term  \\\n",
       "0  1077501    1296599     5000.0       5000.0           4975.0   36 months   \n",
       "1  1077430    1314167     2500.0       2500.0           2500.0   60 months   \n",
       "2  1077175    1313524     2400.0       2400.0           2400.0   36 months   \n",
       "3  1076863    1277178    10000.0      10000.0          10000.0   36 months   \n",
       "4  1075358    1311748     3000.0       3000.0           3000.0   60 months   \n",
       "\n",
       "   int_rate  installment grade sub_grade  ... next_pymnt_d last_credit_pull_d  \\\n",
       "0     10.65       162.87     B        B2  ...     Feb-2016           Jan-2016   \n",
       "1     15.27        59.83     C        C4  ...     Feb-2016           Sep-2013   \n",
       "2     15.96        84.33     C        C5  ...     Feb-2016           Jan-2016   \n",
       "3     13.49       339.31     C        C1  ...     Feb-2016           Jan-2015   \n",
       "4     12.69        67.79     B        B5  ...     Feb-2016           Jan-2016   \n",
       "\n",
       "  collections_12_mths_ex_med  policy_code application_type acc_now_delinq  \\\n",
       "0                        0.0          1.0       INDIVIDUAL            0.0   \n",
       "1                        0.0          1.0       INDIVIDUAL            0.0   \n",
       "2                        0.0          1.0       INDIVIDUAL            0.0   \n",
       "3                        0.0          1.0       INDIVIDUAL            0.0   \n",
       "4                        0.0          1.0       INDIVIDUAL            0.0   \n",
       "\n",
       "  tot_coll_amt    tot_cur_bal total_rev_hi_lim default_ind  \n",
       "0   225.412882  139766.247529     32163.574526           0  \n",
       "1   225.412882  139766.247529     32163.574526           1  \n",
       "2   225.412882  139766.247529     32163.574526           0  \n",
       "3   225.412882  139766.247529     32163.574526           0  \n",
       "4   225.412882  139766.247529     32163.574526           0  \n",
       "\n",
       "[5 rows x 53 columns]"
      ]
     },
     "execution_count": 23,
     "metadata": {},
     "output_type": "execute_result"
    }
   ],
   "source": [
    "\n",
    "df.head()"
   ]
  },
  {
   "cell_type": "markdown",
   "metadata": {},
   "source": [
    "**Removing the logically unimportant variables**\n",
    "\n",
    "1) policy_code as all the values are '1'\n",
    "2) pymnt_plan as all the values are 'n'\n",
    "3) 'id' and 'member_id' : there should be a unique id but in this case there are 2 id's creating confusion\n",
    "4) 'initial_list_status' as it not an important factor\n",
    "5) acc_now_delinq as it has similar value '0' for more than 99%\n",
    "6) emp_title and title\n",
    "7) zip_code doest not matter for loan qualification\n",
    "8) sub_grade as there exixts a similar variable called 'grade' already\n",
    "9) pub_rec as public record is not logically important\n",
    "10) addr_state as address is not important for loan\n",
    "11) inq_last_6mths and open_acc are not important factors"
   ]
  },
  {
   "cell_type": "code",
   "execution_count": 24,
   "metadata": {},
   "outputs": [],
   "source": [
    "removable_vars = ['policy_code','id', 'member_id', 'addr_state', 'initial_list_status', 'pymnt_plan', 'open_acc',\n",
    "                      'acc_now_delinq','emp_title','sub_grade', 'pub_rec', 'zip_code','title','inq_last_6mths']\n",
    "\n",
    "df.drop( removable_vars , axis = 1, inplace = True )"
   ]
  },
  {
   "cell_type": "code",
   "execution_count": 25,
   "metadata": {
    "scrolled": false
   },
   "outputs": [
    {
     "data": {
      "text/plain": [
       "Index(['loan_amnt', 'funded_amnt', 'funded_amnt_inv', 'term', 'int_rate',\n",
       "       'installment', 'grade', 'emp_length', 'home_ownership', 'annual_inc',\n",
       "       'verification_status', 'issue_d', 'purpose', 'dti', 'delinq_2yrs',\n",
       "       'earliest_cr_line', 'mths_since_last_delinq', 'revol_bal', 'revol_util',\n",
       "       'total_acc', 'out_prncp', 'out_prncp_inv', 'total_pymnt',\n",
       "       'total_pymnt_inv', 'total_rec_prncp', 'total_rec_int',\n",
       "       'total_rec_late_fee', 'recoveries', 'collection_recovery_fee',\n",
       "       'last_pymnt_d', 'last_pymnt_amnt', 'next_pymnt_d', 'last_credit_pull_d',\n",
       "       'collections_12_mths_ex_med', 'application_type', 'tot_coll_amt',\n",
       "       'tot_cur_bal', 'total_rev_hi_lim', 'default_ind'],\n",
       "      dtype='object')"
      ]
     },
     "execution_count": 25,
     "metadata": {},
     "output_type": "execute_result"
    }
   ],
   "source": [
    "df.columns"
   ]
  },
  {
   "cell_type": "code",
   "execution_count": 26,
   "metadata": {},
   "outputs": [
    {
     "data": {
      "text/plain": [
       "(855969, 39)"
      ]
     },
     "execution_count": 26,
     "metadata": {},
     "output_type": "execute_result"
    }
   ],
   "source": [
    "df.shape"
   ]
  },
  {
   "cell_type": "code",
   "execution_count": null,
   "metadata": {},
   "outputs": [],
   "source": [
    "df.dtypes"
   ]
  },
  {
   "cell_type": "code",
   "execution_count": null,
   "metadata": {},
   "outputs": [],
   "source": []
  },
  {
   "cell_type": "markdown",
   "metadata": {},
   "source": [
    "# Data Visualization"
   ]
  },
  {
   "cell_type": "code",
   "execution_count": null,
   "metadata": {},
   "outputs": [],
   "source": [
    "import seaborn as sns"
   ]
  },
  {
   "cell_type": "code",
   "execution_count": null,
   "metadata": {},
   "outputs": [],
   "source": [
    "sns.countplot(data=df, x='home_ownership',palette='Set1')\n",
    "plt.show()"
   ]
  },
  {
   "cell_type": "code",
   "execution_count": null,
   "metadata": {},
   "outputs": [],
   "source": [
    "import seaborn as sns\n",
    "sns.countplot(x='default_ind',data=df,palette='Set2') "
   ]
  },
  {
   "cell_type": "code",
   "execution_count": null,
   "metadata": {},
   "outputs": [],
   "source": [
    "sns.countplot(data=data,x='application_type')\n",
    "\n",
    "plt.show()"
   ]
  },
  {
   "cell_type": "code",
   "execution_count": null,
   "metadata": {},
   "outputs": [],
   "source": [
    "sns.countplot(x='grade',data=df) "
   ]
  },
  {
   "cell_type": "code",
   "execution_count": null,
   "metadata": {},
   "outputs": [],
   "source": [
    "sns.countplot(x='purpose',data=df) \n",
    "plt.xticks(rotation=90)"
   ]
  },
  {
   "cell_type": "code",
   "execution_count": null,
   "metadata": {},
   "outputs": [],
   "source": []
  },
  {
   "cell_type": "code",
   "execution_count": null,
   "metadata": {},
   "outputs": [],
   "source": []
  },
  {
   "cell_type": "code",
   "execution_count": null,
   "metadata": {},
   "outputs": [],
   "source": []
  },
  {
   "cell_type": "code",
   "execution_count": null,
   "metadata": {},
   "outputs": [],
   "source": []
  },
  {
   "cell_type": "markdown",
   "metadata": {},
   "source": [
    "**Finding the object variables in the dataframe using 'for' loop**"
   ]
  },
  {
   "cell_type": "code",
   "execution_count": null,
   "metadata": {},
   "outputs": [],
   "source": [
    "colname = []\n",
    "\n",
    "for x in df.columns[:]:\n",
    "    if df[x].dtype=='object':\n",
    "        colname.append(x)\n",
    "        \n",
    "colname\n"
   ]
  },
  {
   "cell_type": "markdown",
   "metadata": {},
   "source": [
    "**After getting a list of all object variables we notice that the variable 'issuue_d' is also present in the list**\n",
    "\n",
    "**As we need 'issue_d' in the next few steps to split data we will exclude it from the list to further convert it into a datetime variable**"
   ]
  },
  {
   "cell_type": "code",
   "execution_count": 27,
   "metadata": {},
   "outputs": [],
   "source": [
    "colname = ['term',\n",
    " 'grade',\n",
    " 'emp_length',\n",
    " 'home_ownership',\n",
    " 'verification_status',\n",
    " 'purpose',\n",
    " 'earliest_cr_line',\n",
    " 'last_pymnt_d',\n",
    " 'next_pymnt_d',\n",
    " 'last_credit_pull_d',\n",
    " 'application_type']"
   ]
  },
  {
   "cell_type": "code",
   "execution_count": 28,
   "metadata": {},
   "outputs": [],
   "source": [
    "# For Preprocessing the data\n",
    "# convert all categorical variables into numeric variables\n",
    "\n",
    "from sklearn import preprocessing\n",
    "\n",
    "le=preprocessing.LabelEncoder()    #LabelEncoder()  == technique of transformation == object to int/float\n",
    "\n",
    "for x in colname:\n",
    "    df[x]=le.fit_transform(df[x])"
   ]
  },
  {
   "cell_type": "code",
   "execution_count": null,
   "metadata": {},
   "outputs": [],
   "source": [
    "df.dtypes"
   ]
  },
  {
   "cell_type": "markdown",
   "metadata": {},
   "source": [
    "Convering 'issue_d' into datetime for splitting the data"
   ]
  },
  {
   "cell_type": "code",
   "execution_count": 29,
   "metadata": {},
   "outputs": [
    {
     "name": "stdout",
     "output_type": "stream",
     "text": [
      "datetime64[ns]\n"
     ]
    }
   ],
   "source": [
    "df.issue_d = pd.to_datetime(df.issue_d)\n",
    "col_name = 'issue_d'\n",
    "print(df[col_name].dtype)"
   ]
  },
  {
   "attachments": {},
   "cell_type": "markdown",
   "metadata": {},
   "source": [
    "**Split the data into train and test according to the condition given in the problem statement**"
   ]
  },
  {
   "cell_type": "code",
   "execution_count": 30,
   "metadata": {},
   "outputs": [
    {
     "name": "stdout",
     "output_type": "stream",
     "text": [
      "(256991, 38)\n",
      "(598978, 38)\n"
     ]
    }
   ],
   "source": [
    "split_date = \"2015-06-01\"\n",
    "\n",
    "XYZ_training = df[df['issue_d']<split_date]\n",
    "XYZ_training = XYZ_training.drop(['issue_d'],axis=1)\n",
    "\n",
    "XYZ_test = df[df['issue_d'] >= split_date]\n",
    "XYZ_test = XYZ_test.drop(['issue_d'],axis=1)\n",
    "print(XYZ_test.shape)\n",
    "\n",
    "print(XYZ_training.shape)"
   ]
  },
  {
   "cell_type": "code",
   "execution_count": 31,
   "metadata": {},
   "outputs": [
    {
     "name": "stdout",
     "output_type": "stream",
     "text": [
      "[0 1 0 ... 0 0 0]\n",
      "[0 0 0 ... 0 0 0]\n"
     ]
    }
   ],
   "source": [
    "X_train=XYZ_training.values[:,:-1]\n",
    "Y_train=XYZ_training.values[:,-1]\n",
    "Y_train=Y_train.astype(int)\n",
    "print(Y_train)\n",
    "\n",
    "X_test=XYZ_test.values[:,:-1]\n",
    "Y_test=XYZ_test.values[:,-1]\n",
    "Y_test=Y_test.astype(int)\n",
    "print(Y_test)"
   ]
  },
  {
   "cell_type": "markdown",
   "metadata": {},
   "source": [
    "### Scaling X_train and X_test for model building\n",
    "**Scaling is not compulsory but can be used to get better accuracy**\n",
    "\n",
    "**Scaling can be done only on X**\n",
    "\n",
    "**Standardization is used mostly for better accuracy**\n",
    "\n",
    "**Fitting is only done on training data**"
   ]
  },
  {
   "cell_type": "code",
   "execution_count": 32,
   "metadata": {},
   "outputs": [
    {
     "name": "stdout",
     "output_type": "stream",
     "text": [
      "        loan_amnt  funded_amnt  funded_amnt_inv  term  int_rate  installment  \\\n",
      "0          5000.0       5000.0      4975.000000     0     10.65       162.87   \n",
      "1          2500.0       2500.0      2500.000000     1     15.27        59.83   \n",
      "2          2400.0       2400.0      2400.000000     0     15.96        84.33   \n",
      "3         10000.0      10000.0     10000.000000     0     13.49       339.31   \n",
      "4          3000.0       3000.0      3000.000000     1     12.69        67.79   \n",
      "5          5000.0       5000.0      5000.000000     0      7.90       156.46   \n",
      "6          7000.0       7000.0      7000.000000     1     15.96       170.08   \n",
      "7          3000.0       3000.0      3000.000000     0     18.64       109.43   \n",
      "8          5600.0       5600.0      5600.000000     1     21.28       152.39   \n",
      "9          5375.0       5375.0      5350.000000     1     12.69       121.45   \n",
      "10         6500.0       6500.0      6500.000000     1     14.65       153.45   \n",
      "11        12000.0      12000.0     12000.000000     0     12.69       402.54   \n",
      "12         9000.0       9000.0      9000.000000     0     13.49       305.38   \n",
      "13         3000.0       3000.0      3000.000000     0      9.91        96.68   \n",
      "14        10000.0      10000.0     10000.000000     0     10.65       325.74   \n",
      "15         1000.0       1000.0      1000.000000     0     16.29        35.31   \n",
      "16        10000.0      10000.0     10000.000000     0     15.27       347.98   \n",
      "17         3600.0       3600.0      3600.000000     0      6.03       109.57   \n",
      "18         6000.0       6000.0      6000.000000     0     11.71       198.46   \n",
      "19         9200.0       9200.0      9200.000000     0      6.03       280.01   \n",
      "20        20250.0      20250.0     19142.161077     1     15.27       484.63   \n",
      "21        21000.0      21000.0     21000.000000     0     12.42       701.73   \n",
      "22        10000.0      10000.0     10000.000000     0     11.71       330.76   \n",
      "23        10000.0      10000.0     10000.000000     0     11.71       330.76   \n",
      "24         6000.0       6000.0      6000.000000     0     11.71       198.46   \n",
      "25        15000.0      15000.0     15000.000000     0      9.91       483.38   \n",
      "26        15000.0      15000.0      8725.000000     0     14.27       514.64   \n",
      "27         5000.0       5000.0      5000.000000     1     16.77       123.65   \n",
      "28         4000.0       4000.0      4000.000000     0     11.71       132.31   \n",
      "29         8500.0       8500.0      8500.000000     0     11.71       281.15   \n",
      "...           ...          ...              ...   ...       ...          ...   \n",
      "855939    20000.0      20000.0     20000.000000     0      6.99       617.46   \n",
      "855940    10300.0      10300.0     10300.000000     1     13.66       237.86   \n",
      "855941     4200.0       4200.0      4200.000000     0     15.99       147.64   \n",
      "855942    15000.0      15000.0     15000.000000     0     11.99       498.15   \n",
      "855943    15000.0      15000.0     15000.000000     1     11.44       329.44   \n",
      "855944     6000.0       6000.0      6000.000000     0     17.86       216.50   \n",
      "855945    26950.0      26950.0     26950.000000     0      8.19       846.88   \n",
      "855946    23000.0      23000.0     23000.000000     1     15.59       554.32   \n",
      "855947    18700.0      18700.0     18700.000000     1     17.86       473.44   \n",
      "855948    25000.0      25000.0     25000.000000     1     15.99       607.82   \n",
      "855949    25000.0      25000.0     25000.000000     1     15.59       602.52   \n",
      "855950    26500.0      26500.0     26500.000000     1      8.67       545.87   \n",
      "855951    21000.0      21000.0     21000.000000     0      6.03       639.15   \n",
      "855952     8000.0       8000.0      8000.000000     0      8.19       251.40   \n",
      "855953    12000.0      12000.0     12000.000000     0      9.49       384.34   \n",
      "855954    10775.0      10775.0     10775.000000     0      6.03       327.95   \n",
      "855955     7000.0       7000.0      7000.000000     0     14.31       240.30   \n",
      "855956     6225.0       6225.0      6225.000000     0     16.49       220.37   \n",
      "855957    10000.0      10000.0     10000.000000     0      6.49       306.45   \n",
      "855958    13150.0      13150.0     13150.000000     1     14.99       312.77   \n",
      "855959     4000.0       4000.0      4000.000000     0      8.67       126.59   \n",
      "855960     7500.0       7500.0      7500.000000     0      9.49       240.22   \n",
      "855961    10850.0      10850.0     10850.000000     0     19.24       399.04   \n",
      "855962    12000.0      12000.0     12000.000000     0     11.99       398.52   \n",
      "855963    11575.0      11575.0     11575.000000     0     15.59       404.61   \n",
      "855964    10000.0      10000.0     10000.000000     0     11.99       332.10   \n",
      "855965    24000.0      24000.0     24000.000000     0     11.99       797.03   \n",
      "855966    13000.0      13000.0     13000.000000     1     15.99       316.07   \n",
      "855967    12000.0      12000.0     12000.000000     1     19.99       317.86   \n",
      "855968    20000.0      20000.0     20000.000000     0     11.99       664.20   \n",
      "\n",
      "        grade  emp_length  home_ownership  annual_inc  ...  last_pymnt_d  \\\n",
      "0           1           1               5    24000.00  ...            39   \n",
      "1           2          10               5    30000.00  ...             5   \n",
      "2           2           1               5    12252.00  ...            55   \n",
      "3           2           1               5    49200.00  ...            39   \n",
      "4           1           0               5    80000.00  ...            40   \n",
      "5           0           3               5    36000.00  ...            39   \n",
      "6           2           8               5    47004.00  ...            40   \n",
      "7           4           9               5    48000.00  ...            39   \n",
      "8           5           4               4    40000.00  ...             4   \n",
      "9           1          10               5    15000.00  ...            77   \n",
      "10          2           5               4    72000.00  ...            54   \n",
      "11          1           1               4    75000.00  ...            94   \n",
      "12          2          10               5    30000.00  ...            45   \n",
      "13          1           3               5    15000.00  ...            39   \n",
      "14          1           3               5   100000.00  ...            86   \n",
      "15          3          10               5    28000.00  ...            39   \n",
      "16          2           4               5    42000.00  ...            39   \n",
      "17          0           1               1   110000.00  ...            70   \n",
      "18          1           0               1    84000.00  ...            31   \n",
      "19          0           6               5    77385.19  ...            45   \n",
      "20          2           3               5    43370.00  ...            15   \n",
      "21          1           1               5   105000.00  ...            94   \n",
      "22          1           1               4    50000.00  ...            39   \n",
      "23          1           5               5    50000.00  ...            86   \n",
      "24          1           0               5    76000.00  ...            85   \n",
      "25          1           2               1    92000.00  ...            93   \n",
      "26          2           9               5    60000.00  ...            40   \n",
      "27          3           2               5    50004.00  ...            20   \n",
      "28          1           1               1   106000.00  ...             5   \n",
      "29          1          10               5    25000.00  ...            22   \n",
      "...       ...         ...             ...         ...  ...           ...   \n",
      "855939      0           2               1    72000.00  ...            40   \n",
      "855940      2           1               5    93600.00  ...            40   \n",
      "855941      3           1               1    48000.00  ...            15   \n",
      "855942      1          10               5    70000.00  ...            40   \n",
      "855943      1           4               5    57000.00  ...            40   \n",
      "855944      3           1               1    90000.00  ...            40   \n",
      "855945      0           1               5    54000.00  ...            40   \n",
      "855946      3           1               1    50000.00  ...            40   \n",
      "855947      3           1               5    52000.00  ...            40   \n",
      "855948      3           3               5   103000.00  ...            40   \n",
      "855949      3           1               4    55000.00  ...            40   \n",
      "855950      1           1               1    92000.00  ...            40   \n",
      "855951      0           1               1    65000.00  ...            40   \n",
      "855952      0           9               1    50000.00  ...            40   \n",
      "855953      1           4               5    40000.00  ...            40   \n",
      "855954      0          10               5    54000.00  ...            48   \n",
      "855955      2           1               5    57000.00  ...            40   \n",
      "855956      3           2               5    27000.00  ...            23   \n",
      "855957      0           0               5    75000.00  ...            40   \n",
      "855958      2           8               1    30000.00  ...            40   \n",
      "855959      1           1               1    50000.00  ...            56   \n",
      "855960      1           8               5    40000.00  ...            40   \n",
      "855961      4           1               4    32000.00  ...            15   \n",
      "855962      1          10               1    63000.00  ...            40   \n",
      "855963      3           1               5    25400.00  ...            40   \n",
      "855964      1           8               5    31000.00  ...            40   \n",
      "855965      1           1               1    79000.00  ...            40   \n",
      "855966      3           5               5    35000.00  ...            40   \n",
      "855967      4           0               5    64400.00  ...            40   \n",
      "855968      1           1               5   100000.00  ...            40   \n",
      "\n",
      "        last_pymnt_amnt  next_pymnt_d  last_credit_pull_d  \\\n",
      "0                171.62             0                  41   \n",
      "1                119.66             0                  99   \n",
      "2                649.91             0                  41   \n",
      "3                357.48             0                  40   \n",
      "4                 67.79             0                  41   \n",
      "5                161.03             0                 101   \n",
      "6                170.08             0                  41   \n",
      "7                111.34             0                  23   \n",
      "8                152.39             0                  12   \n",
      "9                121.45             0                  65   \n",
      "10              1655.54             0                  24   \n",
      "11              6315.30             0                  13   \n",
      "12               305.38             0                  80   \n",
      "13               102.43             0                  41   \n",
      "14               325.74             0                  66   \n",
      "15                36.32             0                  41   \n",
      "16               370.46             0                   6   \n",
      "17               583.45             0                  75   \n",
      "18                16.98             0                  50   \n",
      "19              8061.10             0                  47   \n",
      "20              6024.09             0                  24   \n",
      "21               701.73             0                  41   \n",
      "22               349.21             0                  41   \n",
      "23              4942.63             0                  66   \n",
      "24               198.46             0                  65   \n",
      "25              2447.05             0                  98   \n",
      "26                 0.00             0                  41   \n",
      "27               123.65             0                  74   \n",
      "28              2638.77             0                  41   \n",
      "29               581.59             0                  40   \n",
      "...                 ...           ...                 ...   \n",
      "855939           617.46             0                  41   \n",
      "855940           237.86             0                  41   \n",
      "855941           147.64             0                  41   \n",
      "855942           498.15             0                  41   \n",
      "855943           329.44             0                  41   \n",
      "855944           216.50             0                  41   \n",
      "855945           846.88             0                  41   \n",
      "855946           554.32             0                  41   \n",
      "855947           473.44             0                  41   \n",
      "855948           607.82             0                  41   \n",
      "855949           602.52             0                  41   \n",
      "855950           545.87             0                  41   \n",
      "855951           639.15             0                  41   \n",
      "855952           251.40             0                  41   \n",
      "855953           384.34             0                  41   \n",
      "855954          9439.34             0                  59   \n",
      "855955           240.30             0                  41   \n",
      "855956          4858.17             0                  24   \n",
      "855957           306.45             0                  41   \n",
      "855958           312.77             0                  67   \n",
      "855959          3655.51             0                  83   \n",
      "855960           240.22             0                  41   \n",
      "855961            25.00             0                  41   \n",
      "855962           398.52             0                  41   \n",
      "855963           404.61             0                  41   \n",
      "855964           332.10             0                  41   \n",
      "855965           797.03             0                  41   \n",
      "855966           316.07             0                  41   \n",
      "855967           317.86             0                  41   \n",
      "855968           664.20             0                  41   \n",
      "\n",
      "        collections_12_mths_ex_med  application_type  tot_coll_amt  \\\n",
      "0                              0.0                 0    225.412882   \n",
      "1                              0.0                 0    225.412882   \n",
      "2                              0.0                 0    225.412882   \n",
      "3                              0.0                 0    225.412882   \n",
      "4                              0.0                 0    225.412882   \n",
      "5                              0.0                 0    225.412882   \n",
      "6                              0.0                 0    225.412882   \n",
      "7                              0.0                 0    225.412882   \n",
      "8                              0.0                 0    225.412882   \n",
      "9                              0.0                 0    225.412882   \n",
      "10                             0.0                 0    225.412882   \n",
      "11                             0.0                 0    225.412882   \n",
      "12                             0.0                 0    225.412882   \n",
      "13                             0.0                 0    225.412882   \n",
      "14                             0.0                 0    225.412882   \n",
      "15                             0.0                 0    225.412882   \n",
      "16                             0.0                 0    225.412882   \n",
      "17                             0.0                 0    225.412882   \n",
      "18                             0.0                 0    225.412882   \n",
      "19                             0.0                 0    225.412882   \n",
      "20                             0.0                 0    225.412882   \n",
      "21                             0.0                 0    225.412882   \n",
      "22                             0.0                 0    225.412882   \n",
      "23                             0.0                 0    225.412882   \n",
      "24                             0.0                 0    225.412882   \n",
      "25                             0.0                 0    225.412882   \n",
      "26                             0.0                 0    225.412882   \n",
      "27                             0.0                 0    225.412882   \n",
      "28                             0.0                 0    225.412882   \n",
      "29                             0.0                 0    225.412882   \n",
      "...                            ...               ...           ...   \n",
      "855939                         0.0                 0      0.000000   \n",
      "855940                         0.0                 0     50.000000   \n",
      "855941                         0.0                 0      0.000000   \n",
      "855942                         0.0                 0      0.000000   \n",
      "855943                         0.0                 0      0.000000   \n",
      "855944                         0.0                 0      0.000000   \n",
      "855945                         0.0                 0      0.000000   \n",
      "855946                         0.0                 0      0.000000   \n",
      "855947                         0.0                 0      0.000000   \n",
      "855948                         0.0                 0      0.000000   \n",
      "855949                         0.0                 0      0.000000   \n",
      "855950                         0.0                 0      0.000000   \n",
      "855951                         0.0                 0      0.000000   \n",
      "855952                         0.0                 0      0.000000   \n",
      "855953                         0.0                 0      0.000000   \n",
      "855954                         0.0                 0      0.000000   \n",
      "855955                         0.0                 0      0.000000   \n",
      "855956                         0.0                 0      0.000000   \n",
      "855957                         0.0                 0      0.000000   \n",
      "855958                         0.0                 0      0.000000   \n",
      "855959                         0.0                 0      0.000000   \n",
      "855960                         0.0                 0   3174.000000   \n",
      "855961                         0.0                 0    972.000000   \n",
      "855962                         0.0                 0      0.000000   \n",
      "855963                         0.0                 0      0.000000   \n",
      "855964                         0.0                 0      0.000000   \n",
      "855965                         0.0                 0      0.000000   \n",
      "855966                         0.0                 0      0.000000   \n",
      "855967                         1.0                 0      0.000000   \n",
      "855968                         0.0                 0      0.000000   \n",
      "\n",
      "          tot_cur_bal  total_rev_hi_lim  default_ind  \n",
      "0       139766.247529      32163.574526            0  \n",
      "1       139766.247529      32163.574526            1  \n",
      "2       139766.247529      32163.574526            0  \n",
      "3       139766.247529      32163.574526            0  \n",
      "4       139766.247529      32163.574526            0  \n",
      "5       139766.247529      32163.574526            0  \n",
      "6       139766.247529      32163.574526            0  \n",
      "7       139766.247529      32163.574526            0  \n",
      "8       139766.247529      32163.574526            1  \n",
      "9       139766.247529      32163.574526            1  \n",
      "10      139766.247529      32163.574526            0  \n",
      "11      139766.247529      32163.574526            0  \n",
      "12      139766.247529      32163.574526            1  \n",
      "13      139766.247529      32163.574526            0  \n",
      "14      139766.247529      32163.574526            1  \n",
      "15      139766.247529      32163.574526            0  \n",
      "16      139766.247529      32163.574526            0  \n",
      "17      139766.247529      32163.574526            0  \n",
      "18      139766.247529      32163.574526            0  \n",
      "19      139766.247529      32163.574526            0  \n",
      "20      139766.247529      32163.574526            0  \n",
      "21      139766.247529      32163.574526            1  \n",
      "22      139766.247529      32163.574526            0  \n",
      "23      139766.247529      32163.574526            0  \n",
      "24      139766.247529      32163.574526            1  \n",
      "25      139766.247529      32163.574526            0  \n",
      "26      139766.247529      32163.574526            1  \n",
      "27      139766.247529      32163.574526            1  \n",
      "28      139766.247529      32163.574526            0  \n",
      "29      139766.247529      32163.574526            0  \n",
      "...               ...               ...          ...  \n",
      "855939  388140.000000      39700.000000            0  \n",
      "855940   41956.000000      22000.000000            0  \n",
      "855941  207975.000000      20400.000000            1  \n",
      "855942   15724.000000       9700.000000            0  \n",
      "855943   33529.000000      26100.000000            0  \n",
      "855944  384500.000000       8500.000000            0  \n",
      "855945   41650.000000     129100.000000            0  \n",
      "855946   48978.000000      65600.000000            0  \n",
      "855947   40164.000000      10200.000000            0  \n",
      "855948   17275.000000      18700.000000            0  \n",
      "855949   13860.000000      24400.000000            0  \n",
      "855950  115511.000000     118600.000000            0  \n",
      "855951  212337.000000      76300.000000            0  \n",
      "855952  211412.000000       7300.000000            0  \n",
      "855953   20671.000000      11900.000000            0  \n",
      "855954   24696.000000      41700.000000            0  \n",
      "855955   32135.000000       9900.000000            0  \n",
      "855956    8357.000000       1800.000000            0  \n",
      "855957   88120.000000      30300.000000            0  \n",
      "855958  158977.000000      20700.000000            0  \n",
      "855959   18979.000000      30100.000000            0  \n",
      "855960   18611.000000      14500.000000            0  \n",
      "855961   53777.000000      16800.000000            1  \n",
      "855962  237002.000000      30300.000000            0  \n",
      "855963   19798.000000      28100.000000            0  \n",
      "855964   25274.000000      17100.000000            0  \n",
      "855965  140285.000000      10200.000000            0  \n",
      "855966   34178.000000      18000.000000            0  \n",
      "855967   58418.000000      27000.000000            0  \n",
      "855968   33307.000000      41700.000000            0  \n",
      "\n",
      "[598978 rows x 38 columns]\n"
     ]
    }
   ],
   "source": [
    "from sklearn.preprocessing import StandardScaler\n",
    "\n",
    "scaler = StandardScaler()\n",
    "\n",
    "scaler.fit(X_train)\n",
    "\n",
    "X_train = scaler.transform(X_train)\n",
    "X_test = scaler.transform(X_test)\n",
    "print(XYZ_training)\n"
   ]
  },
  {
   "cell_type": "markdown",
   "metadata": {},
   "source": [
    "# Model Building"
   ]
  },
  {
   "cell_type": "markdown",
   "metadata": {},
   "source": [
    "### Logistic Regression"
   ]
  },
  {
   "cell_type": "code",
   "execution_count": null,
   "metadata": {},
   "outputs": [],
   "source": [
    "from sklearn.linear_model import LogisticRegression\n",
    "\n",
    "#create a model object\n",
    "classifier=LogisticRegression()\n",
    "\n",
    "#fitting training data to the model\n",
    "classifier.fit(X_train,Y_train)\n",
    "\n",
    "Y_pred=classifier.predict(X_test)\n",
    "print(list(zip(Y_test,Y_pred)))\n",
    "\n",
    "print(classifier.coef_)\n",
    "print(classifier.intercept_)"
   ]
  },
  {
   "cell_type": "code",
   "execution_count": null,
   "metadata": {
    "scrolled": true
   },
   "outputs": [],
   "source": [
    "from sklearn.metrics import confusion_matrix,accuracy_score,classification_report\n",
    "cfm=confusion_matrix(Y_test,Y_pred)\n",
    "print(cfm)\n",
    "\n",
    "print(\"classification report: \")\n",
    "print(classification_report(Y_test,Y_pred))\n",
    "acc=accuracy_score(Y_test,Y_pred)\n",
    "print(\"accuracy of the model:\",acc)"
   ]
  },
  {
   "cell_type": "markdown",
   "metadata": {},
   "source": [
    "### Cross Validation Model"
   ]
  },
  {
   "cell_type": "code",
   "execution_count": null,
   "metadata": {},
   "outputs": [],
   "source": [
    "classifier=(LogisticRegression())    #pass the name of the parameter you want to run\n",
    "\n",
    "#performing kfold_cross_validation\n",
    "from sklearn.model_selection import KFold\n",
    "kfold_cv=KFold(n_splits=10)      #10 iterations can be changed also, by default 3\n",
    "print(kfold_cv)\n",
    "\n",
    "from sklearn.model_selection import cross_val_score\n",
    "#running the model using scoring metric as accuracy\n",
    "kfold_cv_result=cross_val_score(estimator=classifier,X=X_train,y=Y_train, cv=kfold_cv)\n",
    "#estimator == specify the name of the algorithm (logistic), 10 fold model on training data\n",
    "\n",
    "print(kfold_cv_result)\n",
    "#finding the mean\n",
    "print(kfold_cv_result.mean())\n"
   ]
  },
  {
   "cell_type": "code",
   "execution_count": null,
   "metadata": {},
   "outputs": [],
   "source": [
    "for train_value, test_value in kfold_cv.split(X_train):\n",
    "    classifier.fit(X_train[train_value], Y_train[train_value]).predict(X_train[test_value])\n",
    "    \n",
    "#train_value represents 9 train folds and test_value represents the 1 test fold\n",
    "\n",
    "Y_pred=classifier.predict(X_test)\n",
    "#print(list(zip(Y_test,Y_pred)))\n"
   ]
  },
  {
   "cell_type": "code",
   "execution_count": null,
   "metadata": {},
   "outputs": [],
   "source": [
    "from sklearn.metrics import confusion_matrix, accuracy_score, classification_report\n",
    "\n",
    "\n",
    "cfm=confusion_matrix(Y_test,Y_pred)\n",
    "print(cfm)\n",
    "\n",
    "print(\"Classification report: \")\n",
    "\n",
    "\n",
    "print(classification_report(Y_test,Y_pred))\n",
    "\n",
    "acc=accuracy_score(Y_test,Y_pred)\n",
    "print(\"Accuracy of the model: \",acc)\n"
   ]
  },
  {
   "cell_type": "code",
   "execution_count": null,
   "metadata": {},
   "outputs": [],
   "source": []
  },
  {
   "cell_type": "code",
   "execution_count": null,
   "metadata": {},
   "outputs": [],
   "source": []
  },
  {
   "cell_type": "markdown",
   "metadata": {},
   "source": [
    "### Adjusting the threshold"
   ]
  },
  {
   "cell_type": "code",
   "execution_count": null,
   "metadata": {},
   "outputs": [],
   "source": [
    "#store the predicted probabilities\n",
    "\n",
    "y_pred_prob = classifier.predict_proba(X_test)\n",
    "print(y_pred_prob)"
   ]
  },
  {
   "cell_type": "code",
   "execution_count": null,
   "metadata": {},
   "outputs": [],
   "source": [
    "y_pred_class = []    #create an empty list\n",
    "\n",
    "for value in y_pred_prob[:,1]:       #all rows but only 1st column\n",
    "    if value > 0.45:\n",
    "        y_pred_class.append(1)\n",
    "    else:\n",
    "        y_pred_class.append(0)\n",
    "print(y_pred_class)"
   ]
  },
  {
   "cell_type": "code",
   "execution_count": null,
   "metadata": {},
   "outputs": [],
   "source": [
    "from sklearn.metrics import confusion_matrix, accuracy_score, classification_report\n",
    "\n",
    "\n",
    "cfm=confusion_matrix(Y_test,y_pred_class)\n",
    "print(cfm)\n",
    "\n",
    "print(\"Classification report: \")\n",
    "\n",
    "\n",
    "print(classification_report(Y_test,y_pred_class))\n",
    "\n",
    "acc=accuracy_score(Y_test,y_pred_class)\n",
    "print(\"Accuracy of the model: \",acc)\n",
    "\n"
   ]
  },
  {
   "cell_type": "code",
   "execution_count": null,
   "metadata": {},
   "outputs": [],
   "source": []
  },
  {
   "cell_type": "markdown",
   "metadata": {},
   "source": [
    "**Running a Generic Code to check the best value of threshold for the lowest amaount of errors**"
   ]
  },
  {
   "cell_type": "code",
   "execution_count": null,
   "metadata": {},
   "outputs": [],
   "source": [
    "for a in np.arange(0,1,0.05):\n",
    "    predict_mine = np.where(y_pred_prob[:,1] > a, 1, 0)\n",
    "    cfm=confusion_matrix(Y_test, predict_mine)\n",
    "    total_err=cfm[0,1]+cfm[1,0]     #first row and 0th index, 2nd row and 1st index\n",
    "    print(\"Errors at threshold \", a, \":\",total_err, \" , type 2 error :\", \n",
    "        cfm[1,0],\" , type 1 error:\", cfm[0,1])"
   ]
  },
  {
   "cell_type": "code",
   "execution_count": null,
   "metadata": {},
   "outputs": [],
   "source": []
  },
  {
   "cell_type": "code",
   "execution_count": null,
   "metadata": {},
   "outputs": [],
   "source": [
    "y_pred_class = []    #create an empty list\n",
    "\n",
    "for value in y_pred_prob[:,1]:       #all rows but only 1st column\n",
    "    if value > 0.95:\n",
    "        y_pred_class.append(1)\n",
    "    else:\n",
    "        y_pred_class.append(0)\n",
    "print(y_pred_class)"
   ]
  },
  {
   "cell_type": "code",
   "execution_count": null,
   "metadata": {},
   "outputs": [],
   "source": [
    "from sklearn.metrics import confusion_matrix, accuracy_score, classification_report\n",
    "\n",
    "\n",
    "cfm=confusion_matrix(Y_test,y_pred_class)\n",
    "print(cfm)\n",
    "\n",
    "print(\"Classification report: \")\n",
    "\n",
    "\n",
    "print(classification_report(Y_test,y_pred_class))\n",
    "\n",
    "acc=accuracy_score(Y_test,y_pred_class)\n",
    "print(\"Accuracy of the model: \",acc)\n",
    "\n"
   ]
  },
  {
   "cell_type": "code",
   "execution_count": null,
   "metadata": {},
   "outputs": [],
   "source": []
  },
  {
   "cell_type": "markdown",
   "metadata": {},
   "source": [
    "### ROC Curve"
   ]
  },
  {
   "cell_type": "code",
   "execution_count": null,
   "metadata": {},
   "outputs": [],
   "source": [
    "from sklearn import metrics\n",
    "\n",
    "fpr, tpr,z = metrics.roc_curve(Y_test, y_pred_class)     #for threshold 0.70\n",
    "auc = metrics.auc(fpr,tpr)\n",
    "print(auc)\n",
    "print(fpr)\n",
    "print(tpr)"
   ]
  },
  {
   "cell_type": "code",
   "execution_count": null,
   "metadata": {},
   "outputs": [],
   "source": [
    "import matplotlib.pyplot as plt\n",
    "#%matplotlib inline\n",
    "plt.title('Receiver Operating Characteristic')    #title\n",
    "plt.plot(fpr, tpr, 'b', label = auc)    #b=color of auc line, label = auc\n",
    "plt.legend(loc = 'lower right')     #legend=to place auc value according to user\n",
    "plt.plot([0, 1], [0, 1],'r--')     #'r--'=red dotted line, ([0,1],[0,1]) = x and y axis\n",
    "plt.xlim([0, 1])\n",
    "plt.ylim([0, 1])\n",
    "plt.xlabel('False Positive Rate')\n",
    "plt.ylabel('True Positive Rate')\n",
    "\n",
    "plt.show()\n",
    "\n"
   ]
  },
  {
   "cell_type": "code",
   "execution_count": null,
   "metadata": {},
   "outputs": [],
   "source": []
  },
  {
   "cell_type": "markdown",
   "metadata": {},
   "source": [
    "### Decision Tree"
   ]
  },
  {
   "cell_type": "code",
   "execution_count": 33,
   "metadata": {},
   "outputs": [
    {
     "data": {
      "text/plain": [
       "DecisionTreeClassifier(class_weight=None, criterion='gini', max_depth=10,\n",
       "            max_features=None, max_leaf_nodes=None,\n",
       "            min_impurity_decrease=0.0, min_impurity_split=None,\n",
       "            min_samples_leaf=10, min_samples_split=2,\n",
       "            min_weight_fraction_leaf=0.0, presort=False, random_state=10,\n",
       "            splitter='best')"
      ]
     },
     "execution_count": 33,
     "metadata": {},
     "output_type": "execute_result"
    }
   ],
   "source": [
    "from sklearn.tree import DecisionTreeClassifier\n",
    "\n",
    "model_DecisionTree=DecisionTreeClassifier(random_state=10,min_samples_leaf=10,max_depth=10)\n",
    "\n",
    "#fit the modl on the data predit the values\n",
    "model_DecisionTree.fit(X_train,Y_train)"
   ]
  },
  {
   "cell_type": "code",
   "execution_count": 34,
   "metadata": {},
   "outputs": [
    {
     "name": "stdout",
     "output_type": "stream",
     "text": [
      "[0 0 0 ... 0 0 0]\n"
     ]
    }
   ],
   "source": [
    "Y_pred=model_DecisionTree.predict(X_test)\n",
    "print(Y_pred)\n",
    "#print(list(zip(Y_test,Y_pred)))"
   ]
  },
  {
   "cell_type": "code",
   "execution_count": 35,
   "metadata": {},
   "outputs": [
    {
     "name": "stdout",
     "output_type": "stream",
     "text": [
      "[[256676      4]\n",
      " [    10    301]]\n",
      "classification report: \n",
      "              precision    recall  f1-score   support\n",
      "\n",
      "           0       1.00      1.00      1.00    256680\n",
      "           1       0.99      0.97      0.98       311\n",
      "\n",
      "   micro avg       1.00      1.00      1.00    256991\n",
      "   macro avg       0.99      0.98      0.99    256991\n",
      "weighted avg       1.00      1.00      1.00    256991\n",
      "\n",
      "accuracy report: 0.9999455233840874\n"
     ]
    }
   ],
   "source": [
    "##confusion matrix and accuracy\n",
    "from sklearn.metrics import confusion_matrix,accuracy_score,\\\n",
    "classification_report\n",
    "cfm=confusion_matrix(Y_test,Y_pred)\n",
    "print(cfm)\n",
    "\n",
    "print(\"classification report: \")\n",
    "print(classification_report(Y_test,Y_pred))\n",
    "\n",
    "acc=accuracy_score(Y_test,Y_pred)\n",
    "print(\"accuracy report:\",acc)\n"
   ]
  },
  {
   "cell_type": "code",
   "execution_count": null,
   "metadata": {},
   "outputs": [],
   "source": []
  },
  {
   "cell_type": "code",
   "execution_count": 36,
   "metadata": {},
   "outputs": [],
   "source": [
    "XYZ_test[\"Y_Predicted\"] = Y_pred"
   ]
  },
  {
   "cell_type": "code",
   "execution_count": null,
   "metadata": {},
   "outputs": [],
   "source": [
    "export_df= XYZ_test.to_excel(r'C:\\Python\\PythonProject-1\\Python Project - Bank Lending\\Y_PRED.xlsx',index = None, header=True)"
   ]
  },
  {
   "cell_type": "code",
   "execution_count": null,
   "metadata": {},
   "outputs": [],
   "source": []
  },
  {
   "cell_type": "markdown",
   "metadata": {},
   "source": [
    "### ROC Curve"
   ]
  },
  {
   "cell_type": "code",
   "execution_count": null,
   "metadata": {},
   "outputs": [],
   "source": [
    "from sklearn import metrics\n",
    "\n",
    "fpr, tpr,z = metrics.roc_curve(Y_test, Y_pred)     #for default threshold 0.5\n",
    "auc = metrics.auc(fpr,tpr)\n",
    "print(auc)\n",
    "print(fpr)\n",
    "print(tpr)"
   ]
  },
  {
   "cell_type": "code",
   "execution_count": null,
   "metadata": {},
   "outputs": [],
   "source": [
    "import matplotlib.pyplot as plt\n",
    "#%matplotlib inline\n",
    "plt.title('Receiver Operating Characteristic')    #title\n",
    "plt.plot(fpr, tpr, 'b', label = auc)    #b=color of auc line, label = auc\n",
    "plt.legend(loc = 'lower right')     #legend=to place auc value according to user\n",
    "plt.plot([0, 1], [0, 1],'r--')     #'r--'=red dotted line, ([0,1],[0,1]) = x and y axis\n",
    "plt.xlim([0, 1])\n",
    "plt.ylim([0, 1])\n",
    "plt.xlabel('False Positive Rate')\n",
    "plt.ylabel('True Positive Rate')\n",
    "\n",
    "plt.show()\n",
    "\n"
   ]
  },
  {
   "cell_type": "code",
   "execution_count": null,
   "metadata": {},
   "outputs": [],
   "source": []
  },
  {
   "cell_type": "code",
   "execution_count": null,
   "metadata": {},
   "outputs": [],
   "source": [
    "#store the predicted probabilities\n",
    "\n",
    "y_pred_prob1 = model_DecisionTree.predict_proba(X_test)\n",
    "print(y_pred_prob1)"
   ]
  },
  {
   "cell_type": "code",
   "execution_count": null,
   "metadata": {},
   "outputs": [],
   "source": [
    "for a in np.arange(0,1,0.05):\n",
    "    predict_mine = np.where(y_pred_prob1[:,1] > a, 1, 0)\n",
    "    cfm=confusion_matrix(Y_test, predict_mine)\n",
    "    total_err=cfm[0,1]+cfm[1,0]     #first row and 0th index, 2nd row and 1st index\n",
    "    print(\"Errors at threshold \", a, \":\",total_err, \" , type 2 error :\", \n",
    "        cfm[1,0],\" , type 1 error:\", cfm[0,1])"
   ]
  },
  {
   "cell_type": "code",
   "execution_count": null,
   "metadata": {},
   "outputs": [],
   "source": []
  },
  {
   "cell_type": "code",
   "execution_count": null,
   "metadata": {},
   "outputs": [],
   "source": [
    "classifier=(DecisionTreeClassifier())    #pass the name of the parameter you want to run\n",
    "\n",
    "#performing kfold_cross_validation\n",
    "from sklearn.model_selection import KFold\n",
    "kfold_cv=KFold(n_splits=5)      #5 iterations can be changed also, by default 3\n",
    "print(kfold_cv)\n",
    "\n",
    "from sklearn.model_selection import cross_val_score\n",
    "#running the model using scoring metric as accuracy\n",
    "kfold_cv_result=cross_val_score(estimator=classifier,X=X_train,y=Y_train, cv=kfold_cv)\n",
    "#estimator == specify the name of the algorithm (logistic), 10 fold model on training data\n",
    "\n",
    "print(kfold_cv_result)\n",
    "#finding the mean\n",
    "print(kfold_cv_result.mean())\n"
   ]
  },
  {
   "cell_type": "code",
   "execution_count": null,
   "metadata": {},
   "outputs": [],
   "source": [
    "for train_value, test_value in kfold_cv.split(X_train):\n",
    "    classifier.fit(X_train[train_value], Y_train[train_value]).predict(X_train[test_value])\n",
    "    \n",
    "#train_value represents 4 train folds and test_value represents the 1 test fold\n",
    "\n",
    "Y_pred=classifier.predict(X_test)\n",
    "#print(list(zip(Y_test,Y_pred)))\n"
   ]
  },
  {
   "cell_type": "code",
   "execution_count": null,
   "metadata": {},
   "outputs": [],
   "source": [
    "from sklearn.metrics import confusion_matrix, accuracy_score, classification_report\n",
    "\n",
    "\n",
    "cfm=confusion_matrix(Y_test,Y_pred)\n",
    "print(cfm)\n",
    "\n",
    "print(\"Classification report: \")\n",
    "\n",
    "\n",
    "print(classification_report(Y_test,Y_pred))\n",
    "\n",
    "acc=accuracy_score(Y_test,Y_pred)\n",
    "print(\"Accuracy of the model: \",acc)\n"
   ]
  },
  {
   "cell_type": "code",
   "execution_count": null,
   "metadata": {},
   "outputs": [],
   "source": []
  },
  {
   "cell_type": "code",
   "execution_count": null,
   "metadata": {},
   "outputs": [],
   "source": [
    "classifier=(DecisionTreeClassifier())"
   ]
  },
  {
   "cell_type": "code",
   "execution_count": null,
   "metadata": {},
   "outputs": [],
   "source": [
    "colname=df.columns[:]"
   ]
  },
  {
   "cell_type": "code",
   "execution_count": null,
   "metadata": {},
   "outputs": [],
   "source": [
    "from sklearn.feature_selection import RFE\n",
    "\n",
    "rfe = RFE(classifier,10)\n",
    "model_rfe = rfe.fit(X_train,Y_train)\n",
    "\n",
    "print(\"Num Features: \",model_rfe.n_features_)     #number of iterations\n",
    "print(\"Selected Features: \")\n",
    "print(list(zip(colname,model_rfe.support_)))     #boolean list showing which elements were retained and which were eliminated\n",
    "print(\"Feature Ranking: \",model_rfe.ranking_)    #rank 1 == retained elements, highest rank means the element was eliminated first\n"
   ]
  },
  {
   "cell_type": "code",
   "execution_count": null,
   "metadata": {},
   "outputs": [],
   "source": [
    "y_pred_rfe=model_rfe.predict(X_test)"
   ]
  },
  {
   "cell_type": "code",
   "execution_count": null,
   "metadata": {},
   "outputs": [],
   "source": [
    "from sklearn.metrics import confusion_matrix, accuracy_score, classification_report\n",
    "\n",
    "\n",
    "cmatrix=confusion_matrix(Y_test,y_pred_rfe)\n",
    "print(cmatrix)\n",
    "\n",
    "print(\"Classification report: \")\n",
    "\n",
    "\n",
    "print(classification_report(Y_test,y_pred_rfe))\n",
    "\n",
    "acc2=accuracy_score(Y_test,y_pred_rfe)\n",
    "print(\"Accuracy of the model: \",acc2)\n"
   ]
  },
  {
   "cell_type": "code",
   "execution_count": null,
   "metadata": {},
   "outputs": [],
   "source": []
  },
  {
   "cell_type": "markdown",
   "metadata": {},
   "source": [
    "### ExtraTreesClassifier"
   ]
  },
  {
   "cell_type": "code",
   "execution_count": null,
   "metadata": {},
   "outputs": [],
   "source": [
    "#Running ExtraTreesClassifier model\n",
    "#prediction using the Bagging_classifier\n",
    "\n",
    "from sklearn.ensemble import ExtraTreesClassifier\n",
    "\n",
    "model=ExtraTreesClassifier(50,random_state=10)\n",
    "#fit the model on the data and predict the values\n",
    "model=model.fit(X_train,Y_train)\n",
    "\n",
    "Y_pred=model.predict(X_test)"
   ]
  },
  {
   "cell_type": "code",
   "execution_count": null,
   "metadata": {},
   "outputs": [],
   "source": [
    "from sklearn.metrics import confusion_matrix,accuracy_score,classification_report\n",
    "\n",
    "cfm=confusion_matrix(Y_test,Y_pred)\n",
    "print(cfm)\n",
    "\n",
    "print('Classification report')\n",
    "\n",
    "print(classification_report(Y_test,Y_pred))\n",
    "\n",
    "acc=accuracy_score(Y_test,Y_pred)\n",
    "print('Accuracy of the model:',acc)"
   ]
  },
  {
   "cell_type": "code",
   "execution_count": null,
   "metadata": {},
   "outputs": [],
   "source": []
  },
  {
   "cell_type": "markdown",
   "metadata": {},
   "source": [
    "### AdaBoost_Classifier"
   ]
  },
  {
   "cell_type": "code",
   "execution_count": null,
   "metadata": {},
   "outputs": [],
   "source": [
    "#prediction using the AdaBoost_Classifier\n",
    "from sklearn.ensemble import AdaBoostClassifier\n",
    "\n",
    "model_AdaBoost=AdaBoostClassifier(base_estimator=DecisionTreeClassifier(),n_estimators=50,random_state=10)\n",
    "#fit the model on the data and predict the values\n",
    "model_AdaBoost.fit(X_train,Y_train)\n",
    "\n",
    "Y_pred=model_AdaBoost.predict(X_test)"
   ]
  },
  {
   "cell_type": "code",
   "execution_count": null,
   "metadata": {},
   "outputs": [],
   "source": [
    "from sklearn.metrics import confusion_matrix,accuracy_score,classification_report\n",
    "\n",
    "cfm=confusion_matrix(Y_test,Y_pred)\n",
    "print(cfm)\n",
    "\n",
    "print('Classification report')\n",
    "\n",
    "print(classification_report(Y_test,Y_pred))\n",
    "\n",
    "acc=accuracy_score(Y_test,Y_pred)\n",
    "print('Accuracy of the model:',acc)"
   ]
  },
  {
   "cell_type": "code",
   "execution_count": null,
   "metadata": {},
   "outputs": [],
   "source": []
  },
  {
   "cell_type": "markdown",
   "metadata": {},
   "source": [
    "### Gradient_Boosting_Classifier"
   ]
  },
  {
   "cell_type": "code",
   "execution_count": null,
   "metadata": {},
   "outputs": [],
   "source": [
    "#predicting using the Gradient_Boosting_Classifier\n",
    "\n",
    "from sklearn.ensemble import GradientBoostingClassifier\n",
    "\n",
    "model_gb= GradientBoostingClassifier(n_estimators=100,random_state=10)\n",
    "\n",
    "#fit the model on the data and predict the calues\n",
    "\n",
    "model_gb = model_gb.fit(X_train,Y_train)\n",
    "\n",
    "Y_test = model_gb.predict(X_test)"
   ]
  },
  {
   "cell_type": "code",
   "execution_count": null,
   "metadata": {},
   "outputs": [],
   "source": [
    "#evaluate the model\n",
    "\n",
    "from sklearn.metrics import confusion_matrix, accuracy_score, classification_report\n",
    "\n",
    "\n",
    "cfm=confusion_matrix(Y_test,Y_pred)\n",
    "print(cfm)\n",
    "\n",
    "print(\"Classification report: \")\n",
    "\n",
    "\n",
    "print(classification_report(Y_test,Y_pred))\n",
    "\n",
    "acc=accuracy_score(Y_test,Y_pred)\n",
    "print(\"Accuracy of the model: \",acc)"
   ]
  },
  {
   "cell_type": "code",
   "execution_count": null,
   "metadata": {},
   "outputs": [],
   "source": []
  },
  {
   "cell_type": "markdown",
   "metadata": {},
   "source": [
    "### RandomForestClassifier"
   ]
  },
  {
   "cell_type": "code",
   "execution_count": null,
   "metadata": {},
   "outputs": [],
   "source": [
    "from sklearn.ensemble import RandomForestClassifier\n",
    "\n",
    "model_RandomForest=RandomForestClassifier(100,random_state=10)\n",
    "#fit the model on the data and predict the values\n",
    "model_RandomForest.fit(X_train,Y_train)\n",
    "\n",
    "Y_pred=model_RandomForest.predict(X_test)"
   ]
  },
  {
   "cell_type": "code",
   "execution_count": null,
   "metadata": {},
   "outputs": [],
   "source": [
    "from sklearn.metrics import confusion_matrix,accuracy_score,classification_report\n",
    "\n",
    "cfm=confusion_matrix(Y_test,Y_pred)\n",
    "print(cfm)\n",
    "\n",
    "print('Classification report')\n",
    "\n",
    "print(classification_report(Y_test,Y_pred))\n",
    "\n",
    "acc=accuracy_score(Y_test,Y_pred)\n",
    "print('Accuracy of the model:',acc)"
   ]
  },
  {
   "cell_type": "code",
   "execution_count": 37,
   "metadata": {},
   "outputs": [
    {
     "name": "stdout",
     "output_type": "stream",
     "text": [
      "0    256680\n",
      "1       311\n",
      "Name: default_ind, dtype: int64\n"
     ]
    }
   ],
   "source": [
    "# tabulation\n",
    "\n",
    "print(XYZ_test.default_ind.value_counts())"
   ]
  },
  {
   "cell_type": "code",
   "execution_count": 38,
   "metadata": {},
   "outputs": [
    {
     "name": "stdout",
     "output_type": "stream",
     "text": [
      "0    256686\n",
      "1       305\n",
      "Name: Y_Predicted, dtype: int64\n"
     ]
    }
   ],
   "source": [
    "# tabulation\n",
    "\n",
    "print(XYZ_test.Y_Predicted.value_counts())"
   ]
  },
  {
   "cell_type": "code",
   "execution_count": null,
   "metadata": {},
   "outputs": [],
   "source": [
    "XYZ_test['Y_PRED']=Y_pred"
   ]
  },
  {
   "cell_type": "code",
   "execution_count": null,
   "metadata": {},
   "outputs": [],
   "source": [
    "XYZ_test.columns"
   ]
  },
  {
   "cell_type": "code",
   "execution_count": null,
   "metadata": {},
   "outputs": [],
   "source": [
    "# tabulation\n",
    "\n",
    "print(df.default_ind.value_counts())"
   ]
  },
  {
   "cell_type": "code",
   "execution_count": null,
   "metadata": {},
   "outputs": [],
   "source": []
  },
  {
   "cell_type": "code",
   "execution_count": null,
   "metadata": {},
   "outputs": [],
   "source": [
    "models_report_oot"
   ]
  },
  {
   "cell_type": "code",
   "execution_count": null,
   "metadata": {},
   "outputs": [],
   "source": [
    "from sklearn.linear_model import LogisticRegression\n",
    "from sklearn.tree import DecisionTreeClassifier\n",
    "from sklearn.ensemble import VotingClassifier\n",
    "\n",
    " \n",
    "\n",
    "# create the sub models\n",
    "estimators = []\n",
    "model1 = LogisticRegression()\n",
    "estimators.append(('log', model1))\n",
    "model2 = DecisionTreeClassifier(criterion='gini',random_state=10)\n",
    "estimators.append(('cart', model2))\n",
    "\n",
    "# create the ensemble model\n",
    "ensemble = VotingClassifier(estimators)\n",
    "ensemble.fit(X_train,Y_train)\n",
    "Y_pred=ensemble.predict(X_test)\n",
    "#print(Y_pred)"
   ]
  },
  {
   "cell_type": "code",
   "execution_count": null,
   "metadata": {},
   "outputs": [],
   "source": [
    "from sklearn.metrics import confusion_matrix,accuracy_score,classification_report\n",
    "\n",
    "cfm=confusion_matrix(Y_test,Y_pred)\n",
    "print(cfm)\n",
    "\n",
    "print('Classification report')\n",
    "\n",
    "print(classification_report(Y_test,Y_pred))\n",
    "\n",
    "acc=accuracy_score(Y_test,Y_pred)\n",
    "print('Accuracy of the model:',acc)"
   ]
  },
  {
   "cell_type": "code",
   "execution_count": null,
   "metadata": {},
   "outputs": [],
   "source": []
  }
 ],
 "metadata": {
  "kernelspec": {
   "display_name": "Python 3",
   "language": "python",
   "name": "python3"
  },
  "language_info": {
   "codemirror_mode": {
    "name": "ipython",
    "version": 3
   },
   "file_extension": ".py",
   "mimetype": "text/x-python",
   "name": "python",
   "nbconvert_exporter": "python",
   "pygments_lexer": "ipython3",
   "version": "3.7.3"
  }
 },
 "nbformat": 4,
 "nbformat_minor": 2
}
